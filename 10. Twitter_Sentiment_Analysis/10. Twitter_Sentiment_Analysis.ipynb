{
 "cells": [
  {
   "cell_type": "markdown",
   "metadata": {},
   "source": [
    "## Description\n",
    "\n",
    "This is the sentiment140 dataset. It contains 1,600,000 tweets extracted using the twitter api . The tweets have been annotated (0 = negative, 4 = positive) and they can be used to detect sentiment .\n",
    "\n",
    "Content\n",
    "It contains the following 6 fields:\n",
    "\n",
    "1. target: the polarity of the tweet (0 = negative, 2 = neutral, 4 = positive)\n",
    "2. ids: The id of the tweet ( 2087)\n",
    "3. date: the date of the tweet (Sat May 16 23:58:44 UTC 2009)\n",
    "4. flag: The query (lyx). If there is no query, then this value is NO_QUERY.\n",
    "5. user: the user that tweeted (robotickilldozr)\n",
    "6. text: the text of the tweet (Lyx is cool)\n",
    "\n",
    "Reference: https://www.kaggle.com/paoloripamonti/twitter-sentiment-analysis"
   ]
  },
  {
   "cell_type": "markdown",
   "metadata": {},
   "source": [
    "### 1. Loading Data"
   ]
  },
  {
   "cell_type": "code",
   "execution_count": 4,
   "metadata": {},
   "outputs": [],
   "source": [
    "# DataFrame\n",
    "import pandas as pd\n",
    "\n",
    "# Matplot\n",
    "import matplotlib.pyplot as plt\n",
    "%matplotlib inline\n",
    "\n",
    "# Scikit-learn\n",
    "from sklearn.model_selection import train_test_split\n",
    "from sklearn.preprocessing import LabelEncoder\n",
    "from sklearn.metrics import confusion_matrix, classification_report, accuracy_score\n",
    "from sklearn.manifold import TSNE\n",
    "from sklearn.feature_extraction.text import TfidfVectorizer\n",
    "\n",
    "# Keras\n",
    "from keras.preprocessing.text import Tokenizer\n",
    "from keras.preprocessing.sequence import pad_sequences\n",
    "from keras.models import Sequential\n",
    "from keras.layers import Activation, Dense, Dropout, Embedding, Flatten, Conv1D, MaxPooling1D, LSTM\n",
    "from keras import utils\n",
    "from keras.callbacks import ReduceLROnPlateau, EarlyStopping\n",
    "\n",
    "# nltk\n",
    "import nltk\n",
    "from nltk.corpus import stopwords\n",
    "from  nltk.stem import SnowballStemmer\n",
    "\n",
    "# Word2vec\n",
    "import gensim\n",
    "\n",
    "# Utility\n",
    "import re\n",
    "import numpy as np\n",
    "import os\n",
    "from collections import Counter\n",
    "import logging\n",
    "import time\n",
    "import pickle\n",
    "import itertools\n",
    "\n",
    "# Set log\n",
    "logging.basicConfig(format='%(asctime)s : %(levelname)s : %(message)s', level=logging.INFO)"
   ]
  },
  {
   "cell_type": "code",
   "execution_count": 5,
   "metadata": {},
   "outputs": [
    {
     "name": "stderr",
     "output_type": "stream",
     "text": [
      "[nltk_data] Downloading package stopwords to\n",
      "[nltk_data]     C:\\Users\\matis\\AppData\\Roaming\\nltk_data...\n",
      "[nltk_data]   Unzipping corpora\\stopwords.zip.\n"
     ]
    },
    {
     "data": {
      "text/plain": [
       "True"
      ]
     },
     "execution_count": 5,
     "metadata": {},
     "output_type": "execute_result"
    }
   ],
   "source": [
    "nltk.download('stopwords')"
   ]
  },
  {
   "cell_type": "code",
   "execution_count": 6,
   "metadata": {},
   "outputs": [],
   "source": [
    "# DATASET\n",
    "DATASET_COLUMNS = [\"target\", \"ids\", \"date\", \"flag\", \"user\", \"text\"]\n",
    "DATASET_ENCODING = \"ISO-8859-1\"\n",
    "TRAIN_SIZE = 0.8\n",
    "\n",
    "# TEXT CLENAING\n",
    "TEXT_CLEANING_RE = \"@\\S+|https?:\\S+|http?:\\S|[^A-Za-z0-9]+\"\n",
    "\n",
    "# WORD2VEC \n",
    "W2V_SIZE = 300\n",
    "W2V_WINDOW = 7\n",
    "W2V_EPOCH = 32\n",
    "W2V_MIN_COUNT = 10\n",
    "\n",
    "# KERAS\n",
    "SEQUENCE_LENGTH = 300\n",
    "EPOCHS = 8\n",
    "BATCH_SIZE = 1024\n",
    "\n",
    "# SENTIMENT\n",
    "POSITIVE = \"POSITIVE\"\n",
    "NEGATIVE = \"NEGATIVE\"\n",
    "NEUTRAL = \"NEUTRAL\"\n",
    "SENTIMENT_THRESHOLDS = (0.4, 0.7)\n",
    "\n",
    "# EXPORT\n",
    "KERAS_MODEL = \"model.h5\"\n",
    "WORD2VEC_MODEL = \"model.w2v\"\n",
    "TOKENIZER_MODEL = \"tokenizer.pkl\"\n",
    "ENCODER_MODEL = \"encoder.pkl\""
   ]
  },
  {
   "cell_type": "markdown",
   "metadata": {},
   "source": [
    "### 2. Data Preprocessing"
   ]
  },
  {
   "cell_type": "markdown",
   "metadata": {},
   "source": [
    "**Dataset details**\n",
    "\n",
    " - target: the polarity of the tweet (0 = negative, 2 = neutral, 4 = positive)\n",
    " - ids: The id of the tweet ( 2087)\n",
    " - date: the date of the tweet (Sat May 16 23:58:44 UTC 2009)\n",
    " - flag: The query (lyx). If there is no query, then this value is NO_QUERY.\n",
    " - user: the user that tweeted (robotickilldozr)\n",
    " - text: the text of the tweet (Lyx is cool)"
   ]
  },
  {
   "cell_type": "code",
   "execution_count": 12,
   "metadata": {},
   "outputs": [
    {
     "name": "stdout",
     "output_type": "stream",
     "text": [
      "training.1600000.processed.noemoticon.csv\n",
      "Open file: .\\input\\training.1600000.processed.noemoticon.csv\n"
     ]
    }
   ],
   "source": [
    "dataset_filename = os.listdir(\"input\")[0]\n",
    "print(dataset_filename)\n",
    "dataset_path = os.path.join(\".\",\"input\",dataset_filename)\n",
    "print(\"Open file:\", dataset_path)\n",
    "df = pd.read_csv(dataset_path, encoding =DATASET_ENCODING , names=DATASET_COLUMNS)"
   ]
  },
  {
   "cell_type": "code",
   "execution_count": 13,
   "metadata": {},
   "outputs": [
    {
     "name": "stdout",
     "output_type": "stream",
     "text": [
      "Dataset size: 1600000\n"
     ]
    }
   ],
   "source": [
    "print(\"Dataset size:\", len(df))"
   ]
  },
  {
   "cell_type": "code",
   "execution_count": 14,
   "metadata": {},
   "outputs": [
    {
     "data": {
      "text/html": [
       "<div>\n",
       "<style scoped>\n",
       "    .dataframe tbody tr th:only-of-type {\n",
       "        vertical-align: middle;\n",
       "    }\n",
       "\n",
       "    .dataframe tbody tr th {\n",
       "        vertical-align: top;\n",
       "    }\n",
       "\n",
       "    .dataframe thead th {\n",
       "        text-align: right;\n",
       "    }\n",
       "</style>\n",
       "<table border=\"1\" class=\"dataframe\">\n",
       "  <thead>\n",
       "    <tr style=\"text-align: right;\">\n",
       "      <th></th>\n",
       "      <th>target</th>\n",
       "      <th>ids</th>\n",
       "      <th>date</th>\n",
       "      <th>flag</th>\n",
       "      <th>user</th>\n",
       "      <th>text</th>\n",
       "    </tr>\n",
       "  </thead>\n",
       "  <tbody>\n",
       "    <tr>\n",
       "      <th>0</th>\n",
       "      <td>0</td>\n",
       "      <td>1467810369</td>\n",
       "      <td>Mon Apr 06 22:19:45 PDT 2009</td>\n",
       "      <td>NO_QUERY</td>\n",
       "      <td>_TheSpecialOne_</td>\n",
       "      <td>@switchfoot http://twitpic.com/2y1zl - Awww, t...</td>\n",
       "    </tr>\n",
       "    <tr>\n",
       "      <th>1</th>\n",
       "      <td>0</td>\n",
       "      <td>1467810672</td>\n",
       "      <td>Mon Apr 06 22:19:49 PDT 2009</td>\n",
       "      <td>NO_QUERY</td>\n",
       "      <td>scotthamilton</td>\n",
       "      <td>is upset that he can't update his Facebook by ...</td>\n",
       "    </tr>\n",
       "    <tr>\n",
       "      <th>2</th>\n",
       "      <td>0</td>\n",
       "      <td>1467810917</td>\n",
       "      <td>Mon Apr 06 22:19:53 PDT 2009</td>\n",
       "      <td>NO_QUERY</td>\n",
       "      <td>mattycus</td>\n",
       "      <td>@Kenichan I dived many times for the ball. Man...</td>\n",
       "    </tr>\n",
       "    <tr>\n",
       "      <th>3</th>\n",
       "      <td>0</td>\n",
       "      <td>1467811184</td>\n",
       "      <td>Mon Apr 06 22:19:57 PDT 2009</td>\n",
       "      <td>NO_QUERY</td>\n",
       "      <td>ElleCTF</td>\n",
       "      <td>my whole body feels itchy and like its on fire</td>\n",
       "    </tr>\n",
       "    <tr>\n",
       "      <th>4</th>\n",
       "      <td>0</td>\n",
       "      <td>1467811193</td>\n",
       "      <td>Mon Apr 06 22:19:57 PDT 2009</td>\n",
       "      <td>NO_QUERY</td>\n",
       "      <td>Karoli</td>\n",
       "      <td>@nationwideclass no, it's not behaving at all....</td>\n",
       "    </tr>\n",
       "  </tbody>\n",
       "</table>\n",
       "</div>"
      ],
      "text/plain": [
       "   target         ids                          date      flag  \\\n",
       "0       0  1467810369  Mon Apr 06 22:19:45 PDT 2009  NO_QUERY   \n",
       "1       0  1467810672  Mon Apr 06 22:19:49 PDT 2009  NO_QUERY   \n",
       "2       0  1467810917  Mon Apr 06 22:19:53 PDT 2009  NO_QUERY   \n",
       "3       0  1467811184  Mon Apr 06 22:19:57 PDT 2009  NO_QUERY   \n",
       "4       0  1467811193  Mon Apr 06 22:19:57 PDT 2009  NO_QUERY   \n",
       "\n",
       "              user                                               text  \n",
       "0  _TheSpecialOne_  @switchfoot http://twitpic.com/2y1zl - Awww, t...  \n",
       "1    scotthamilton  is upset that he can't update his Facebook by ...  \n",
       "2         mattycus  @Kenichan I dived many times for the ball. Man...  \n",
       "3          ElleCTF    my whole body feels itchy and like its on fire   \n",
       "4           Karoli  @nationwideclass no, it's not behaving at all....  "
      ]
     },
     "execution_count": 14,
     "metadata": {},
     "output_type": "execute_result"
    }
   ],
   "source": [
    "df.head(5)"
   ]
  },
  {
   "cell_type": "markdown",
   "metadata": {},
   "source": [
    "### 3. Feature Engineering"
   ]
  },
  {
   "cell_type": "code",
   "execution_count": 15,
   "metadata": {},
   "outputs": [],
   "source": [
    "decode_map = {0: \"NEGATIVE\", 2: \"NEUTRAL\", 4: \"POSITIVE\"}\n",
    "def decode_sentiment(label):\n",
    "    return decode_map[int(label)]"
   ]
  },
  {
   "cell_type": "code",
   "execution_count": 16,
   "metadata": {},
   "outputs": [
    {
     "name": "stdout",
     "output_type": "stream",
     "text": [
      "Wall time: 556 ms\n"
     ]
    }
   ],
   "source": [
    "%%time\n",
    "df.target = df.target.apply(lambda x: decode_sentiment(x))"
   ]
  },
  {
   "cell_type": "code",
   "execution_count": 17,
   "metadata": {},
   "outputs": [
    {
     "data": {
      "text/plain": [
       "Text(0.5, 1.0, 'Dataset labels distribuition')"
      ]
     },
     "execution_count": 17,
     "metadata": {},
     "output_type": "execute_result"
    },
    {
     "data": {
      "image/png": "[encoded data removed]",
      "text/plain": [
       "<Figure size 1152x576 with 1 Axes>"
      ]
     },
     "metadata": {
      "needs_background": "light"
     },
     "output_type": "display_data"
    }
   ],
   "source": [
    "target_cnt = Counter(df.target)\n",
    "\n",
    "plt.figure(figsize=(16,8))\n",
    "plt.bar(target_cnt.keys(), target_cnt.values())\n",
    "plt.title(\"Dataset labels distribuition\")"
   ]
  },
  {
   "cell_type": "code",
   "execution_count": 18,
   "metadata": {},
   "outputs": [],
   "source": [
    "stop_words = stopwords.words(\"english\")\n",
    "stemmer = SnowballStemmer(\"english\")"
   ]
  },
  {
   "cell_type": "code",
   "execution_count": 19,
   "metadata": {},
   "outputs": [],
   "source": [
    "def preprocess(text, stem=False):\n",
    "    # Remove link,user and special characters\n",
    "    text = re.sub(TEXT_CLEANING_RE, ' ', str(text).lower()).strip()\n",
    "    tokens = []\n",
    "    for token in text.split():\n",
    "        if token not in stop_words:\n",
    "            if stem:\n",
    "                tokens.append(stemmer.stem(token))\n",
    "            else:\n",
    "                tokens.append(token)\n",
    "    return \" \".join(tokens)"
   ]
  },
  {
   "cell_type": "code",
   "execution_count": 20,
   "metadata": {},
   "outputs": [
    {
     "name": "stdout",
     "output_type": "stream",
     "text": [
      "Wall time: 1min 9s\n"
     ]
    }
   ],
   "source": [
    "%%time\n",
    "df.text = df.text.apply(lambda x: preprocess(x))"
   ]
  },
  {
   "cell_type": "code",
   "execution_count": 21,
   "metadata": {},
   "outputs": [
    {
     "name": "stdout",
     "output_type": "stream",
     "text": [
      "TRAIN size: 1280000\n",
      "TEST size: 320000\n"
     ]
    }
   ],
   "source": [
    "df_train, df_test = train_test_split(df, test_size=1-TRAIN_SIZE, random_state=42)\n",
    "print(\"TRAIN size:\", len(df_train))\n",
    "print(\"TEST size:\", len(df_test))"
   ]
  },
  {
   "cell_type": "markdown",
   "metadata": {},
   "source": [
    "### Word2Vec"
   ]
  },
  {
   "cell_type": "code",
   "execution_count": 22,
   "metadata": {},
   "outputs": [
    {
     "name": "stdout",
     "output_type": "stream",
     "text": [
      "Wall time: 4.55 s\n"
     ]
    }
   ],
   "source": [
    "%%time\n",
    "documents = [_text.split() for _text in df_train.text] "
   ]
  },
  {
   "cell_type": "code",
   "execution_count": 23,
   "metadata": {},
   "outputs": [],
   "source": [
    "w2v_model = gensim.models.word2vec.Word2Vec(size=W2V_SIZE, \n",
    "                                            window=W2V_WINDOW, \n",
    "                                            min_count=W2V_MIN_COUNT, \n",
    "                                            workers=8)"
   ]
  },
  {
   "cell_type": "code",
   "execution_count": 24,
   "metadata": {},
   "outputs": [
    {
     "name": "stderr",
     "output_type": "stream",
     "text": [
      "2020-11-06 00:54:06,111 : INFO : collecting all words and their counts\n",
      "2020-11-06 00:54:06,114 : INFO : PROGRESS: at sentence #0, processed 0 words, keeping 0 word types\n",
      "2020-11-06 00:54:06,164 : INFO : PROGRESS: at sentence #10000, processed 72565 words, keeping 14005 word types\n",
      "2020-11-06 00:54:06,197 : INFO : PROGRESS: at sentence #20000, processed 144393 words, keeping 21587 word types\n",
      "2020-11-06 00:54:06,222 : INFO : PROGRESS: at sentence #30000, processed 215826 words, keeping 27541 word types\n",
      "2020-11-06 00:54:06,261 : INFO : PROGRESS: at sentence #40000, processed 288271 words, keeping 32764 word types\n",
      "2020-11-06 00:54:06,291 : INFO : PROGRESS: at sentence #50000, processed 359772 words, keeping 37587 word types\n",
      "2020-11-06 00:54:06,322 : INFO : PROGRESS: at sentence #60000, processed 431431 words, keeping 42198 word types\n",
      "2020-11-06 00:54:06,349 : INFO : PROGRESS: at sentence #70000, processed 503103 words, keeping 46458 word types\n",
      "2020-11-06 00:54:06,390 : INFO : PROGRESS: at sentence #80000, processed 575709 words, keeping 50476 word types\n",
      "2020-11-06 00:54:06,423 : INFO : PROGRESS: at sentence #90000, processed 647100 words, keeping 54140 word types\n",
      "2020-11-06 00:54:06,462 : INFO : PROGRESS: at sentence #100000, processed 718681 words, keeping 57777 word types\n",
      "2020-11-06 00:54:06,496 : INFO : PROGRESS: at sentence #110000, processed 790696 words, keeping 61207 word types\n",
      "2020-11-06 00:54:06,528 : INFO : PROGRESS: at sentence #120000, processed 863134 words, keeping 64583 word types\n",
      "2020-11-06 00:54:06,562 : INFO : PROGRESS: at sentence #130000, processed 935111 words, keeping 67865 word types\n",
      "2020-11-06 00:54:06,596 : INFO : PROGRESS: at sentence #140000, processed 1006668 words, keeping 70966 word types\n",
      "2020-11-06 00:54:06,631 : INFO : PROGRESS: at sentence #150000, processed 1078512 words, keeping 74119 word types\n",
      "2020-11-06 00:54:06,670 : INFO : PROGRESS: at sentence #160000, processed 1149914 words, keeping 77187 word types\n",
      "2020-11-06 00:54:06,708 : INFO : PROGRESS: at sentence #170000, processed 1222145 words, keeping 80267 word types\n",
      "2020-11-06 00:54:06,738 : INFO : PROGRESS: at sentence #180000, processed 1294708 words, keeping 83393 word types\n",
      "2020-11-06 00:54:06,770 : INFO : PROGRESS: at sentence #190000, processed 1367608 words, keeping 86329 word types\n",
      "2020-11-06 00:54:06,811 : INFO : PROGRESS: at sentence #200000, processed 1439469 words, keeping 89103 word types\n",
      "2020-11-06 00:54:06,845 : INFO : PROGRESS: at sentence #210000, processed 1512099 words, keeping 91840 word types\n",
      "2020-11-06 00:54:06,873 : INFO : PROGRESS: at sentence #220000, processed 1584149 words, keeping 94636 word types\n",
      "2020-11-06 00:54:06,911 : INFO : PROGRESS: at sentence #230000, processed 1656354 words, keeping 97353 word types\n",
      "2020-11-06 00:54:06,944 : INFO : PROGRESS: at sentence #240000, processed 1728573 words, keeping 99975 word types\n",
      "2020-11-06 00:54:06,977 : INFO : PROGRESS: at sentence #250000, processed 1801102 words, keeping 102594 word types\n",
      "2020-11-06 00:54:07,013 : INFO : PROGRESS: at sentence #260000, processed 1873103 words, keeping 105162 word types\n",
      "2020-11-06 00:54:07,054 : INFO : PROGRESS: at sentence #270000, processed 1945245 words, keeping 107626 word types\n",
      "2020-11-06 00:54:07,095 : INFO : PROGRESS: at sentence #280000, processed 2017163 words, keeping 110141 word types\n",
      "2020-11-06 00:54:07,129 : INFO : PROGRESS: at sentence #290000, processed 2089574 words, keeping 112539 word types\n",
      "2020-11-06 00:54:07,168 : INFO : PROGRESS: at sentence #300000, processed 2160996 words, keeping 114893 word types\n",
      "2020-11-06 00:54:07,198 : INFO : PROGRESS: at sentence #310000, processed 2232913 words, keeping 117298 word types\n",
      "2020-11-06 00:54:07,235 : INFO : PROGRESS: at sentence #320000, processed 2305039 words, keeping 119693 word types\n",
      "2020-11-06 00:54:07,277 : INFO : PROGRESS: at sentence #330000, processed 2377119 words, keeping 122131 word types\n",
      "2020-11-06 00:54:07,314 : INFO : PROGRESS: at sentence #340000, processed 2449370 words, keeping 124416 word types\n",
      "2020-11-06 00:54:07,345 : INFO : PROGRESS: at sentence #350000, processed 2521564 words, keeping 126669 word types\n",
      "2020-11-06 00:54:07,387 : INFO : PROGRESS: at sentence #360000, processed 2593681 words, keeping 128912 word types\n",
      "2020-11-06 00:54:07,416 : INFO : PROGRESS: at sentence #370000, processed 2665692 words, keeping 131135 word types\n",
      "2020-11-06 00:54:07,454 : INFO : PROGRESS: at sentence #380000, processed 2737859 words, keeping 133403 word types\n",
      "2020-11-06 00:54:07,494 : INFO : PROGRESS: at sentence #390000, processed 2809848 words, keeping 135551 word types\n",
      "2020-11-06 00:54:07,528 : INFO : PROGRESS: at sentence #400000, processed 2882438 words, keeping 137742 word types\n",
      "2020-11-06 00:54:07,561 : INFO : PROGRESS: at sentence #410000, processed 2954075 words, keeping 139909 word types\n",
      "2020-11-06 00:54:07,599 : INFO : PROGRESS: at sentence #420000, processed 3026247 words, keeping 142144 word types\n",
      "2020-11-06 00:54:07,642 : INFO : PROGRESS: at sentence #430000, processed 3098659 words, keeping 144364 word types\n",
      "2020-11-06 00:54:07,677 : INFO : PROGRESS: at sentence #440000, processed 3170663 words, keeping 146439 word types\n",
      "2020-11-06 00:54:07,716 : INFO : PROGRESS: at sentence #450000, processed 3243344 words, keeping 148526 word types\n",
      "2020-11-06 00:54:07,754 : INFO : PROGRESS: at sentence #460000, processed 3315466 words, keeping 150610 word types\n",
      "2020-11-06 00:54:07,794 : INFO : PROGRESS: at sentence #470000, processed 3388295 words, keeping 152737 word types\n",
      "2020-11-06 00:54:07,831 : INFO : PROGRESS: at sentence #480000, processed 3460120 words, keeping 154757 word types\n",
      "2020-11-06 00:54:07,868 : INFO : PROGRESS: at sentence #490000, processed 3531883 words, keeping 156825 word types\n",
      "2020-11-06 00:54:07,910 : INFO : PROGRESS: at sentence #500000, processed 3604217 words, keeping 158859 word types\n",
      "2020-11-06 00:54:07,937 : INFO : PROGRESS: at sentence #510000, processed 3676427 words, keeping 160852 word types\n",
      "2020-11-06 00:54:07,986 : INFO : PROGRESS: at sentence #520000, processed 3749045 words, keeping 162863 word types\n",
      "2020-11-06 00:54:08,020 : INFO : PROGRESS: at sentence #530000, processed 3821622 words, keeping 164929 word types\n",
      "2020-11-06 00:54:08,042 : INFO : PROGRESS: at sentence #540000, processed 3893627 words, keeping 166840 word types\n",
      "2020-11-06 00:54:08,092 : INFO : PROGRESS: at sentence #550000, processed 3965477 words, keeping 168799 word types\n",
      "2020-11-06 00:54:08,127 : INFO : PROGRESS: at sentence #560000, processed 4038050 words, keeping 170802 word types\n",
      "2020-11-06 00:54:08,158 : INFO : PROGRESS: at sentence #570000, processed 4110296 words, keeping 172760 word types\n",
      "2020-11-06 00:54:08,197 : INFO : PROGRESS: at sentence #580000, processed 4182385 words, keeping 174635 word types\n",
      "2020-11-06 00:54:08,242 : INFO : PROGRESS: at sentence #590000, processed 4254632 words, keeping 176470 word types\n",
      "2020-11-06 00:54:08,275 : INFO : PROGRESS: at sentence #600000, processed 4326859 words, keeping 178350 word types\n",
      "2020-11-06 00:54:08,310 : INFO : PROGRESS: at sentence #610000, processed 4399183 words, keeping 180290 word types\n",
      "2020-11-06 00:54:08,358 : INFO : PROGRESS: at sentence #620000, processed 4471343 words, keeping 182129 word types\n",
      "2020-11-06 00:54:08,391 : INFO : PROGRESS: at sentence #630000, processed 4543286 words, keeping 184005 word types\n",
      "2020-11-06 00:54:08,436 : INFO : PROGRESS: at sentence #640000, processed 4615780 words, keeping 185835 word types\n",
      "2020-11-06 00:54:08,465 : INFO : PROGRESS: at sentence #650000, processed 4688481 words, keeping 187705 word types\n",
      "2020-11-06 00:54:08,512 : INFO : PROGRESS: at sentence #660000, processed 4760481 words, keeping 189439 word types\n",
      "2020-11-06 00:54:08,551 : INFO : PROGRESS: at sentence #670000, processed 4833024 words, keeping 191232 word types\n",
      "2020-11-06 00:54:08,576 : INFO : PROGRESS: at sentence #680000, processed 4904516 words, keeping 193177 word types\n",
      "2020-11-06 00:54:08,618 : INFO : PROGRESS: at sentence #690000, processed 4976968 words, keeping 194960 word types\n",
      "2020-11-06 00:54:08,656 : INFO : PROGRESS: at sentence #700000, processed 5049412 words, keeping 196725 word types\n",
      "2020-11-06 00:54:08,694 : INFO : PROGRESS: at sentence #710000, processed 5121976 words, keeping 198516 word types\n"
     ]
    },
    {
     "name": "stderr",
     "output_type": "stream",
     "text": [
      "2020-11-06 00:54:08,733 : INFO : PROGRESS: at sentence #720000, processed 5193881 words, keeping 200325 word types\n",
      "2020-11-06 00:54:08,775 : INFO : PROGRESS: at sentence #730000, processed 5265467 words, keeping 202133 word types\n",
      "2020-11-06 00:54:08,810 : INFO : PROGRESS: at sentence #740000, processed 5337518 words, keeping 203818 word types\n",
      "2020-11-06 00:54:08,858 : INFO : PROGRESS: at sentence #750000, processed 5409321 words, keeping 205535 word types\n",
      "2020-11-06 00:54:08,889 : INFO : PROGRESS: at sentence #760000, processed 5481512 words, keeping 207282 word types\n",
      "2020-11-06 00:54:08,924 : INFO : PROGRESS: at sentence #770000, processed 5554093 words, keeping 209076 word types\n",
      "2020-11-06 00:54:08,958 : INFO : PROGRESS: at sentence #780000, processed 5625382 words, keeping 210805 word types\n",
      "2020-11-06 00:54:08,992 : INFO : PROGRESS: at sentence #790000, processed 5698066 words, keeping 212618 word types\n",
      "2020-11-06 00:54:09,032 : INFO : PROGRESS: at sentence #800000, processed 5770880 words, keeping 214374 word types\n",
      "2020-11-06 00:54:09,069 : INFO : PROGRESS: at sentence #810000, processed 5843418 words, keeping 216009 word types\n",
      "2020-11-06 00:54:09,106 : INFO : PROGRESS: at sentence #820000, processed 5915628 words, keeping 217804 word types\n",
      "2020-11-06 00:54:09,141 : INFO : PROGRESS: at sentence #830000, processed 5987499 words, keeping 219585 word types\n",
      "2020-11-06 00:54:09,174 : INFO : PROGRESS: at sentence #840000, processed 6058973 words, keeping 221344 word types\n",
      "2020-11-06 00:54:09,202 : INFO : PROGRESS: at sentence #850000, processed 6131125 words, keeping 223002 word types\n",
      "2020-11-06 00:54:09,243 : INFO : PROGRESS: at sentence #860000, processed 6202951 words, keeping 224643 word types\n",
      "2020-11-06 00:54:09,282 : INFO : PROGRESS: at sentence #870000, processed 6275461 words, keeping 226362 word types\n",
      "2020-11-06 00:54:09,319 : INFO : PROGRESS: at sentence #880000, processed 6347661 words, keeping 227986 word types\n",
      "2020-11-06 00:54:09,342 : INFO : PROGRESS: at sentence #890000, processed 6419806 words, keeping 229634 word types\n",
      "2020-11-06 00:54:09,382 : INFO : PROGRESS: at sentence #900000, processed 6491644 words, keeping 231389 word types\n",
      "2020-11-06 00:54:09,431 : INFO : PROGRESS: at sentence #910000, processed 6564022 words, keeping 233050 word types\n",
      "2020-11-06 00:54:09,474 : INFO : PROGRESS: at sentence #920000, processed 6636228 words, keeping 234686 word types\n",
      "2020-11-06 00:54:09,519 : INFO : PROGRESS: at sentence #930000, processed 6708573 words, keeping 236393 word types\n",
      "2020-11-06 00:54:09,557 : INFO : PROGRESS: at sentence #940000, processed 6779956 words, keeping 238052 word types\n",
      "2020-11-06 00:54:09,594 : INFO : PROGRESS: at sentence #950000, processed 6852599 words, keeping 239716 word types\n",
      "2020-11-06 00:54:09,632 : INFO : PROGRESS: at sentence #960000, processed 6924717 words, keeping 241354 word types\n",
      "2020-11-06 00:54:09,681 : INFO : PROGRESS: at sentence #970000, processed 6996992 words, keeping 242980 word types\n",
      "2020-11-06 00:54:09,729 : INFO : PROGRESS: at sentence #980000, processed 7068402 words, keeping 244646 word types\n",
      "2020-11-06 00:54:09,770 : INFO : PROGRESS: at sentence #990000, processed 7140346 words, keeping 246186 word types\n",
      "2020-11-06 00:54:09,813 : INFO : PROGRESS: at sentence #1000000, processed 7211757 words, keeping 247726 word types\n",
      "2020-11-06 00:54:09,848 : INFO : PROGRESS: at sentence #1010000, processed 7283267 words, keeping 249288 word types\n",
      "2020-11-06 00:54:09,890 : INFO : PROGRESS: at sentence #1020000, processed 7355299 words, keeping 250860 word types\n",
      "2020-11-06 00:54:09,933 : INFO : PROGRESS: at sentence #1030000, processed 7426918 words, keeping 252366 word types\n",
      "2020-11-06 00:54:09,975 : INFO : PROGRESS: at sentence #1040000, processed 7498815 words, keeping 253930 word types\n",
      "2020-11-06 00:54:10,014 : INFO : PROGRESS: at sentence #1050000, processed 7570499 words, keeping 255471 word types\n",
      "2020-11-06 00:54:10,060 : INFO : PROGRESS: at sentence #1060000, processed 7643251 words, keeping 257035 word types\n",
      "2020-11-06 00:54:10,097 : INFO : PROGRESS: at sentence #1070000, processed 7714721 words, keeping 258509 word types\n",
      "2020-11-06 00:54:10,139 : INFO : PROGRESS: at sentence #1080000, processed 7787371 words, keeping 260071 word types\n",
      "2020-11-06 00:54:10,181 : INFO : PROGRESS: at sentence #1090000, processed 7859336 words, keeping 261683 word types\n",
      "2020-11-06 00:54:10,224 : INFO : PROGRESS: at sentence #1100000, processed 7932029 words, keeping 263278 word types\n",
      "2020-11-06 00:54:10,263 : INFO : PROGRESS: at sentence #1110000, processed 8004146 words, keeping 264800 word types\n",
      "2020-11-06 00:54:10,300 : INFO : PROGRESS: at sentence #1120000, processed 8075880 words, keeping 266309 word types\n",
      "2020-11-06 00:54:10,341 : INFO : PROGRESS: at sentence #1130000, processed 8148163 words, keeping 267826 word types\n",
      "2020-11-06 00:54:10,384 : INFO : PROGRESS: at sentence #1140000, processed 8220487 words, keeping 269391 word types\n",
      "2020-11-06 00:54:10,424 : INFO : PROGRESS: at sentence #1150000, processed 8292498 words, keeping 270894 word types\n",
      "2020-11-06 00:54:10,466 : INFO : PROGRESS: at sentence #1160000, processed 8363838 words, keeping 272400 word types\n",
      "2020-11-06 00:54:10,513 : INFO : PROGRESS: at sentence #1170000, processed 8435510 words, keeping 273970 word types\n",
      "2020-11-06 00:54:10,550 : INFO : PROGRESS: at sentence #1180000, processed 8507795 words, keeping 275521 word types\n",
      "2020-11-06 00:54:10,597 : INFO : PROGRESS: at sentence #1190000, processed 8579080 words, keeping 277007 word types\n",
      "2020-11-06 00:54:10,635 : INFO : PROGRESS: at sentence #1200000, processed 8650606 words, keeping 278457 word types\n",
      "2020-11-06 00:54:10,679 : INFO : PROGRESS: at sentence #1210000, processed 8721893 words, keeping 279959 word types\n",
      "2020-11-06 00:54:10,722 : INFO : PROGRESS: at sentence #1220000, processed 8793795 words, keeping 281427 word types\n",
      "2020-11-06 00:54:10,755 : INFO : PROGRESS: at sentence #1230000, processed 8865726 words, keeping 282981 word types\n",
      "2020-11-06 00:54:10,796 : INFO : PROGRESS: at sentence #1240000, processed 8938173 words, keeping 284542 word types\n",
      "2020-11-06 00:54:10,831 : INFO : PROGRESS: at sentence #1250000, processed 9010842 words, keeping 286064 word types\n",
      "2020-11-06 00:54:10,866 : INFO : PROGRESS: at sentence #1260000, processed 9083261 words, keeping 287521 word types\n",
      "2020-11-06 00:54:10,897 : INFO : PROGRESS: at sentence #1270000, processed 9155616 words, keeping 288987 word types\n",
      "2020-11-06 00:54:10,930 : INFO : collected 290418 word types from a corpus of 9227204 raw words and 1280000 sentences\n",
      "2020-11-06 00:54:10,933 : INFO : Loading a fresh vocabulary\n",
      "2020-11-06 00:54:11,151 : INFO : effective_min_count=10 retains 30369 unique words (10% of original 290418, drops 260049)\n",
      "2020-11-06 00:54:11,154 : INFO : effective_min_count=10 leaves 8780739 word corpus (95% of original 9227204, drops 446465)\n",
      "2020-11-06 00:54:11,272 : INFO : deleting the raw counts dictionary of 290418 items\n",
      "2020-11-06 00:54:11,279 : INFO : sample=0.001 downsamples 45 most-common words\n",
      "2020-11-06 00:54:11,283 : INFO : downsampling leaves estimated 8222658 word corpus (93.6% of prior 8780739)\n",
      "2020-11-06 00:54:11,412 : INFO : estimated required memory for 30369 words and 300 dimensions: 88070100 bytes\n",
      "2020-11-06 00:54:11,415 : INFO : resetting layer weights\n"
     ]
    }
   ],
   "source": [
    "w2v_model.build_vocab(documents)"
   ]
  },
  {
   "cell_type": "code",
   "execution_count": 25,
   "metadata": {},
   "outputs": [
    {
     "name": "stdout",
     "output_type": "stream",
     "text": [
      "Vocab size 30369\n"
     ]
    }
   ],
   "source": [
    "words = w2v_model.wv.vocab.keys()\n",
    "vocab_size = len(words)\n",
    "print(\"Vocab size\", vocab_size)"
   ]
  },
  {
   "cell_type": "code",
   "execution_count": 26,
   "metadata": {},
   "outputs": [
    {
     "name": "stderr",
     "output_type": "stream",
     "text": [
      "2020-11-06 00:55:06,514 : INFO : training model with 8 workers on 30369 vocabulary and 300 features, using sg=0 hs=0 sample=0.001 negative=5 window=7\n",
      "2020-11-06 00:55:07,551 : INFO : EPOCH 1 - PROGRESS: at 6.30% examples, 510452 words/s, in_qsize 13, out_qsize 2\n",
      "2020-11-06 00:55:08,558 : INFO : EPOCH 1 - PROGRESS: at 13.68% examples, 554296 words/s, in_qsize 15, out_qsize 0\n",
      "2020-11-06 00:55:09,635 : INFO : EPOCH 1 - PROGRESS: at 21.57% examples, 571766 words/s, in_qsize 15, out_qsize 0\n",
      "2020-11-06 00:55:10,654 : INFO : EPOCH 1 - PROGRESS: at 28.50% examples, 568959 words/s, in_qsize 14, out_qsize 1\n",
      "2020-11-06 00:55:11,693 : INFO : EPOCH 1 - PROGRESS: at 34.35% examples, 546456 words/s, in_qsize 16, out_qsize 0\n",
      "2020-11-06 00:55:12,728 : INFO : EPOCH 1 - PROGRESS: at 42.35% examples, 562714 words/s, in_qsize 15, out_qsize 0\n",
      "2020-11-06 00:55:13,746 : INFO : EPOCH 1 - PROGRESS: at 49.49% examples, 564362 words/s, in_qsize 16, out_qsize 1\n",
      "2020-11-06 00:55:14,759 : INFO : EPOCH 1 - PROGRESS: at 55.86% examples, 559226 words/s, in_qsize 14, out_qsize 1\n",
      "2020-11-06 00:55:15,762 : INFO : EPOCH 1 - PROGRESS: at 61.39% examples, 547280 words/s, in_qsize 15, out_qsize 0\n",
      "2020-11-06 00:55:16,797 : INFO : EPOCH 1 - PROGRESS: at 67.67% examples, 542677 words/s, in_qsize 15, out_qsize 0\n",
      "2020-11-06 00:55:17,811 : INFO : EPOCH 1 - PROGRESS: at 72.97% examples, 532663 words/s, in_qsize 16, out_qsize 1\n",
      "2020-11-06 00:55:18,812 : INFO : EPOCH 1 - PROGRESS: at 78.95% examples, 529074 words/s, in_qsize 15, out_qsize 0\n",
      "2020-11-06 00:55:19,812 : INFO : EPOCH 1 - PROGRESS: at 85.23% examples, 528121 words/s, in_qsize 15, out_qsize 0\n",
      "2020-11-06 00:55:20,876 : INFO : EPOCH 1 - PROGRESS: at 91.20% examples, 523100 words/s, in_qsize 16, out_qsize 0\n",
      "2020-11-06 00:55:21,886 : INFO : EPOCH 1 - PROGRESS: at 96.96% examples, 519487 words/s, in_qsize 16, out_qsize 1\n",
      "2020-11-06 00:55:22,258 : INFO : worker thread finished; awaiting finish of 7 more threads\n",
      "2020-11-06 00:55:22,260 : INFO : worker thread finished; awaiting finish of 6 more threads\n",
      "2020-11-06 00:55:22,313 : INFO : worker thread finished; awaiting finish of 5 more threads\n",
      "2020-11-06 00:55:22,314 : INFO : worker thread finished; awaiting finish of 4 more threads\n",
      "2020-11-06 00:55:22,348 : INFO : worker thread finished; awaiting finish of 3 more threads\n",
      "2020-11-06 00:55:22,348 : INFO : worker thread finished; awaiting finish of 2 more threads\n",
      "2020-11-06 00:55:22,370 : INFO : worker thread finished; awaiting finish of 1 more threads\n",
      "2020-11-06 00:55:22,375 : INFO : worker thread finished; awaiting finish of 0 more threads\n",
      "2020-11-06 00:55:22,380 : INFO : EPOCH - 1 : training on 9227204 raw words (8222923 effective words) took 15.8s, 519099 effective words/s\n",
      "2020-11-06 00:55:23,418 : INFO : EPOCH 2 - PROGRESS: at 5.65% examples, 457324 words/s, in_qsize 15, out_qsize 0\n",
      "2020-11-06 00:55:24,488 : INFO : EPOCH 2 - PROGRESS: at 11.40% examples, 448536 words/s, in_qsize 14, out_qsize 1\n",
      "2020-11-06 00:55:25,492 : INFO : EPOCH 2 - PROGRESS: at 17.24% examples, 458446 words/s, in_qsize 15, out_qsize 0\n",
      "2020-11-06 00:55:26,507 : INFO : EPOCH 2 - PROGRESS: at 23.20% examples, 464059 words/s, in_qsize 15, out_qsize 0\n",
      "2020-11-06 00:55:27,572 : INFO : EPOCH 2 - PROGRESS: at 29.48% examples, 468751 words/s, in_qsize 16, out_qsize 0\n",
      "2020-11-06 00:55:28,580 : INFO : EPOCH 2 - PROGRESS: at 35.75% examples, 476193 words/s, in_qsize 15, out_qsize 0\n",
      "2020-11-06 00:55:29,617 : INFO : EPOCH 2 - PROGRESS: at 41.16% examples, 469437 words/s, in_qsize 15, out_qsize 0\n",
      "2020-11-06 00:55:30,618 : INFO : EPOCH 2 - PROGRESS: at 47.32% examples, 474026 words/s, in_qsize 15, out_qsize 0\n",
      "2020-11-06 00:55:31,627 : INFO : EPOCH 2 - PROGRESS: at 52.95% examples, 472376 words/s, in_qsize 15, out_qsize 0\n",
      "2020-11-06 00:55:32,655 : INFO : EPOCH 2 - PROGRESS: at 59.12% examples, 474482 words/s, in_qsize 14, out_qsize 1\n",
      "2020-11-06 00:55:33,652 : INFO : EPOCH 2 - PROGRESS: at 64.73% examples, 473441 words/s, in_qsize 12, out_qsize 3\n",
      "2020-11-06 00:55:34,666 : INFO : EPOCH 2 - PROGRESS: at 70.69% examples, 474525 words/s, in_qsize 15, out_qsize 0\n",
      "2020-11-06 00:55:35,732 : INFO : EPOCH 2 - PROGRESS: at 76.66% examples, 473123 words/s, in_qsize 15, out_qsize 0\n",
      "2020-11-06 00:55:36,763 : INFO : EPOCH 2 - PROGRESS: at 82.53% examples, 472599 words/s, in_qsize 15, out_qsize 0\n",
      "2020-11-06 00:55:37,816 : INFO : EPOCH 2 - PROGRESS: at 88.59% examples, 472836 words/s, in_qsize 15, out_qsize 0\n",
      "2020-11-06 00:55:38,842 : INFO : EPOCH 2 - PROGRESS: at 94.58% examples, 473041 words/s, in_qsize 15, out_qsize 0\n",
      "2020-11-06 00:55:39,599 : INFO : worker thread finished; awaiting finish of 7 more threads\n",
      "2020-11-06 00:55:39,620 : INFO : worker thread finished; awaiting finish of 6 more threads\n",
      "2020-11-06 00:55:39,628 : INFO : worker thread finished; awaiting finish of 5 more threads\n",
      "2020-11-06 00:55:39,634 : INFO : worker thread finished; awaiting finish of 4 more threads\n",
      "2020-11-06 00:55:39,653 : INFO : worker thread finished; awaiting finish of 3 more threads\n",
      "2020-11-06 00:55:39,667 : INFO : worker thread finished; awaiting finish of 2 more threads\n",
      "2020-11-06 00:55:39,672 : INFO : worker thread finished; awaiting finish of 1 more threads\n",
      "2020-11-06 00:55:39,676 : INFO : worker thread finished; awaiting finish of 0 more threads\n",
      "2020-11-06 00:55:39,678 : INFO : EPOCH - 2 : training on 9227204 raw words (8223469 effective words) took 17.3s, 476111 effective words/s\n",
      "2020-11-06 00:55:40,763 : INFO : EPOCH 3 - PROGRESS: at 5.54% examples, 431997 words/s, in_qsize 15, out_qsize 0\n",
      "2020-11-06 00:55:41,773 : INFO : EPOCH 3 - PROGRESS: at 11.62% examples, 464203 words/s, in_qsize 16, out_qsize 0\n",
      "2020-11-06 00:55:42,771 : INFO : EPOCH 3 - PROGRESS: at 17.35% examples, 466292 words/s, in_qsize 14, out_qsize 1\n",
      "2020-11-06 00:55:43,785 : INFO : EPOCH 3 - PROGRESS: at 22.87% examples, 461337 words/s, in_qsize 15, out_qsize 0\n",
      "2020-11-06 00:55:44,832 : INFO : EPOCH 3 - PROGRESS: at 29.16% examples, 468047 words/s, in_qsize 15, out_qsize 0\n",
      "2020-11-06 00:55:45,841 : INFO : EPOCH 3 - PROGRESS: at 35.10% examples, 471264 words/s, in_qsize 12, out_qsize 2\n",
      "2020-11-06 00:55:46,851 : INFO : EPOCH 3 - PROGRESS: at 40.94% examples, 471974 words/s, in_qsize 16, out_qsize 0\n",
      "2020-11-06 00:55:47,863 : INFO : EPOCH 3 - PROGRESS: at 46.89% examples, 473556 words/s, in_qsize 15, out_qsize 0\n",
      "2020-11-06 00:55:48,864 : INFO : EPOCH 3 - PROGRESS: at 52.95% examples, 476327 words/s, in_qsize 15, out_qsize 0\n",
      "2020-11-06 00:55:49,882 : INFO : EPOCH 3 - PROGRESS: at 58.58% examples, 473978 words/s, in_qsize 16, out_qsize 0\n",
      "2020-11-06 00:55:50,915 : INFO : EPOCH 3 - PROGRESS: at 64.62% examples, 475075 words/s, in_qsize 13, out_qsize 2\n",
      "2020-11-06 00:55:51,954 : INFO : EPOCH 3 - PROGRESS: at 70.59% examples, 474743 words/s, in_qsize 15, out_qsize 0\n",
      "2020-11-06 00:55:52,968 : INFO : EPOCH 3 - PROGRESS: at 76.44% examples, 474591 words/s, in_qsize 15, out_qsize 0\n",
      "2020-11-06 00:55:53,982 : INFO : EPOCH 3 - PROGRESS: at 82.21% examples, 473934 words/s, in_qsize 15, out_qsize 0\n",
      "2020-11-06 00:55:55,000 : INFO : EPOCH 3 - PROGRESS: at 88.26% examples, 474962 words/s, in_qsize 15, out_qsize 0\n",
      "2020-11-06 00:55:56,011 : INFO : EPOCH 3 - PROGRESS: at 94.03% examples, 474519 words/s, in_qsize 15, out_qsize 2\n",
      "2020-11-06 00:55:56,812 : INFO : worker thread finished; awaiting finish of 7 more threads\n",
      "2020-11-06 00:55:56,828 : INFO : worker thread finished; awaiting finish of 6 more threads\n",
      "2020-11-06 00:55:56,836 : INFO : worker thread finished; awaiting finish of 5 more threads\n",
      "2020-11-06 00:55:56,847 : INFO : worker thread finished; awaiting finish of 4 more threads\n",
      "2020-11-06 00:55:56,891 : INFO : worker thread finished; awaiting finish of 3 more threads\n",
      "2020-11-06 00:55:56,902 : INFO : worker thread finished; awaiting finish of 2 more threads\n",
      "2020-11-06 00:55:56,905 : INFO : worker thread finished; awaiting finish of 1 more threads\n",
      "2020-11-06 00:55:56,914 : INFO : worker thread finished; awaiting finish of 0 more threads\n",
      "2020-11-06 00:55:56,916 : INFO : EPOCH - 3 : training on 9227204 raw words (8222688 effective words) took 17.2s, 478133 effective words/s\n",
      "2020-11-06 00:55:57,950 : INFO : EPOCH 4 - PROGRESS: at 5.32% examples, 435000 words/s, in_qsize 15, out_qsize 0\n"
     ]
    },
    {
     "name": "stderr",
     "output_type": "stream",
     "text": [
      "2020-11-06 00:55:58,980 : INFO : EPOCH 4 - PROGRESS: at 11.30% examples, 456200 words/s, in_qsize 15, out_qsize 0\n",
      "2020-11-06 00:56:00,031 : INFO : EPOCH 4 - PROGRESS: at 17.13% examples, 456640 words/s, in_qsize 16, out_qsize 7\n",
      "2020-11-06 00:56:01,037 : INFO : EPOCH 4 - PROGRESS: at 23.20% examples, 466637 words/s, in_qsize 15, out_qsize 0\n",
      "2020-11-06 00:56:02,087 : INFO : EPOCH 4 - PROGRESS: at 30.02% examples, 480286 words/s, in_qsize 16, out_qsize 0\n",
      "2020-11-06 00:56:03,083 : INFO : EPOCH 4 - PROGRESS: at 35.75% examples, 478819 words/s, in_qsize 14, out_qsize 1\n",
      "2020-11-06 00:56:04,099 : INFO : EPOCH 4 - PROGRESS: at 41.59% examples, 478182 words/s, in_qsize 15, out_qsize 0\n",
      "2020-11-06 00:56:05,111 : INFO : EPOCH 4 - PROGRESS: at 48.62% examples, 489837 words/s, in_qsize 15, out_qsize 0\n",
      "2020-11-06 00:56:06,127 : INFO : EPOCH 4 - PROGRESS: at 54.24% examples, 486362 words/s, in_qsize 15, out_qsize 0\n",
      "2020-11-06 00:56:07,147 : INFO : EPOCH 4 - PROGRESS: at 60.96% examples, 491529 words/s, in_qsize 15, out_qsize 0\n",
      "2020-11-06 00:56:08,150 : INFO : EPOCH 4 - PROGRESS: at 66.80% examples, 490559 words/s, in_qsize 16, out_qsize 0\n",
      "2020-11-06 00:56:09,159 : INFO : EPOCH 4 - PROGRESS: at 72.75% examples, 490270 words/s, in_qsize 15, out_qsize 0\n",
      "2020-11-06 00:56:10,168 : INFO : EPOCH 4 - PROGRESS: at 78.51% examples, 488651 words/s, in_qsize 14, out_qsize 3\n",
      "2020-11-06 00:56:11,178 : INFO : EPOCH 4 - PROGRESS: at 84.69% examples, 489650 words/s, in_qsize 15, out_qsize 0\n",
      "2020-11-06 00:56:12,186 : INFO : EPOCH 4 - PROGRESS: at 90.22% examples, 487036 words/s, in_qsize 15, out_qsize 0\n",
      "2020-11-06 00:56:13,220 : INFO : EPOCH 4 - PROGRESS: at 95.99% examples, 485025 words/s, in_qsize 16, out_qsize 2\n",
      "2020-11-06 00:56:13,725 : INFO : worker thread finished; awaiting finish of 7 more threads\n",
      "2020-11-06 00:56:13,733 : INFO : worker thread finished; awaiting finish of 6 more threads\n",
      "2020-11-06 00:56:13,741 : INFO : worker thread finished; awaiting finish of 5 more threads\n",
      "2020-11-06 00:56:13,743 : INFO : worker thread finished; awaiting finish of 4 more threads\n",
      "2020-11-06 00:56:13,746 : INFO : worker thread finished; awaiting finish of 3 more threads\n",
      "2020-11-06 00:56:13,783 : INFO : worker thread finished; awaiting finish of 2 more threads\n",
      "2020-11-06 00:56:13,792 : INFO : worker thread finished; awaiting finish of 1 more threads\n",
      "2020-11-06 00:56:13,829 : INFO : worker thread finished; awaiting finish of 0 more threads\n",
      "2020-11-06 00:56:13,832 : INFO : EPOCH - 4 : training on 9227204 raw words (8222303 effective words) took 16.9s, 486991 effective words/s\n",
      "2020-11-06 00:56:14,930 : INFO : EPOCH 5 - PROGRESS: at 5.54% examples, 424361 words/s, in_qsize 16, out_qsize 0\n",
      "2020-11-06 00:56:15,971 : INFO : EPOCH 5 - PROGRESS: at 11.84% examples, 459032 words/s, in_qsize 15, out_qsize 0\n",
      "2020-11-06 00:56:16,978 : INFO : EPOCH 5 - PROGRESS: at 17.46% examples, 458752 words/s, in_qsize 15, out_qsize 0\n",
      "2020-11-06 00:56:17,991 : INFO : EPOCH 5 - PROGRESS: at 23.63% examples, 469752 words/s, in_qsize 15, out_qsize 0\n",
      "2020-11-06 00:56:18,997 : INFO : EPOCH 5 - PROGRESS: at 29.05% examples, 464710 words/s, in_qsize 16, out_qsize 0\n",
      "2020-11-06 00:56:20,081 : INFO : EPOCH 5 - PROGRESS: at 35.54% examples, 469282 words/s, in_qsize 15, out_qsize 0\n",
      "2020-11-06 00:56:21,127 : INFO : EPOCH 5 - PROGRESS: at 41.70% examples, 471747 words/s, in_qsize 16, out_qsize 2\n",
      "2020-11-06 00:56:22,127 : INFO : EPOCH 5 - PROGRESS: at 47.21% examples, 469380 words/s, in_qsize 16, out_qsize 0\n",
      "2020-11-06 00:56:23,139 : INFO : EPOCH 5 - PROGRESS: at 52.84% examples, 468295 words/s, in_qsize 16, out_qsize 0\n",
      "2020-11-06 00:56:24,143 : INFO : EPOCH 5 - PROGRESS: at 58.25% examples, 466073 words/s, in_qsize 11, out_qsize 4\n",
      "2020-11-06 00:56:25,158 : INFO : EPOCH 5 - PROGRESS: at 64.62% examples, 470707 words/s, in_qsize 15, out_qsize 0\n",
      "2020-11-06 00:56:26,200 : INFO : EPOCH 5 - PROGRESS: at 70.15% examples, 467620 words/s, in_qsize 15, out_qsize 0\n",
      "2020-11-06 00:56:27,213 : INFO : EPOCH 5 - PROGRESS: at 76.33% examples, 470278 words/s, in_qsize 16, out_qsize 0\n",
      "2020-11-06 00:56:28,219 : INFO : EPOCH 5 - PROGRESS: at 82.10% examples, 470201 words/s, in_qsize 15, out_qsize 0\n",
      "2020-11-06 00:56:29,243 : INFO : EPOCH 5 - PROGRESS: at 88.05% examples, 470545 words/s, in_qsize 14, out_qsize 1\n",
      "2020-11-06 00:56:30,321 : INFO : EPOCH 5 - PROGRESS: at 93.92% examples, 469218 words/s, in_qsize 16, out_qsize 0\n",
      "2020-11-06 00:56:31,186 : INFO : worker thread finished; awaiting finish of 7 more threads\n",
      "2020-11-06 00:56:31,194 : INFO : worker thread finished; awaiting finish of 6 more threads\n",
      "2020-11-06 00:56:31,206 : INFO : worker thread finished; awaiting finish of 5 more threads\n",
      "2020-11-06 00:56:31,215 : INFO : worker thread finished; awaiting finish of 4 more threads\n",
      "2020-11-06 00:56:31,216 : INFO : worker thread finished; awaiting finish of 3 more threads\n",
      "2020-11-06 00:56:31,241 : INFO : worker thread finished; awaiting finish of 2 more threads\n",
      "2020-11-06 00:56:31,250 : INFO : worker thread finished; awaiting finish of 1 more threads\n",
      "2020-11-06 00:56:31,262 : INFO : worker thread finished; awaiting finish of 0 more threads\n",
      "2020-11-06 00:56:31,267 : INFO : EPOCH - 5 : training on 9227204 raw words (8222464 effective words) took 17.4s, 472340 effective words/s\n",
      "2020-11-06 00:56:32,325 : INFO : EPOCH 6 - PROGRESS: at 7.17% examples, 572958 words/s, in_qsize 15, out_qsize 0\n",
      "2020-11-06 00:56:33,326 : INFO : EPOCH 6 - PROGRESS: at 15.51% examples, 624088 words/s, in_qsize 15, out_qsize 0\n",
      "2020-11-06 00:56:34,347 : INFO : EPOCH 6 - PROGRESS: at 22.43% examples, 603848 words/s, in_qsize 15, out_qsize 0\n",
      "2020-11-06 00:56:35,347 : INFO : EPOCH 6 - PROGRESS: at 30.13% examples, 610812 words/s, in_qsize 15, out_qsize 0\n",
      "2020-11-06 00:56:36,381 : INFO : EPOCH 6 - PROGRESS: at 37.27% examples, 602797 words/s, in_qsize 15, out_qsize 0\n",
      "2020-11-06 00:56:37,421 : INFO : EPOCH 6 - PROGRESS: at 45.27% examples, 608113 words/s, in_qsize 15, out_qsize 0\n",
      "2020-11-06 00:56:38,427 : INFO : EPOCH 6 - PROGRESS: at 52.07% examples, 600804 words/s, in_qsize 12, out_qsize 3\n",
      "2020-11-06 00:56:39,453 : INFO : EPOCH 6 - PROGRESS: at 59.77% examples, 602990 words/s, in_qsize 15, out_qsize 0\n",
      "2020-11-06 00:56:40,458 : INFO : EPOCH 6 - PROGRESS: at 66.91% examples, 601072 words/s, in_qsize 15, out_qsize 4\n",
      "2020-11-06 00:56:41,456 : INFO : EPOCH 6 - PROGRESS: at 75.14% examples, 608515 words/s, in_qsize 16, out_qsize 0\n",
      "2020-11-06 00:56:42,462 : INFO : EPOCH 6 - PROGRESS: at 81.77% examples, 602132 words/s, in_qsize 15, out_qsize 0\n",
      "2020-11-06 00:56:43,517 : INFO : EPOCH 6 - PROGRESS: at 89.56% examples, 602237 words/s, in_qsize 15, out_qsize 0\n",
      "2020-11-06 00:56:44,549 : INFO : EPOCH 6 - PROGRESS: at 97.18% examples, 602953 words/s, in_qsize 16, out_qsize 0\n",
      "2020-11-06 00:56:44,773 : INFO : worker thread finished; awaiting finish of 7 more threads\n",
      "2020-11-06 00:56:44,805 : INFO : worker thread finished; awaiting finish of 6 more threads\n",
      "2020-11-06 00:56:44,813 : INFO : worker thread finished; awaiting finish of 5 more threads\n",
      "2020-11-06 00:56:44,829 : INFO : worker thread finished; awaiting finish of 4 more threads\n",
      "2020-11-06 00:56:44,845 : INFO : worker thread finished; awaiting finish of 3 more threads\n",
      "2020-11-06 00:56:44,845 : INFO : worker thread finished; awaiting finish of 2 more threads\n",
      "2020-11-06 00:56:44,853 : INFO : worker thread finished; awaiting finish of 1 more threads\n",
      "2020-11-06 00:56:44,860 : INFO : worker thread finished; awaiting finish of 0 more threads\n",
      "2020-11-06 00:56:44,863 : INFO : EPOCH - 6 : training on 9227204 raw words (8221780 effective words) took 13.6s, 606132 effective words/s\n",
      "2020-11-06 00:56:45,891 : INFO : EPOCH 7 - PROGRESS: at 6.95% examples, 569019 words/s, in_qsize 15, out_qsize 0\n",
      "2020-11-06 00:56:46,911 : INFO : EPOCH 7 - PROGRESS: at 14.32% examples, 581941 words/s, in_qsize 15, out_qsize 0\n",
      "2020-11-06 00:56:47,923 : INFO : EPOCH 7 - PROGRESS: at 21.03% examples, 569536 words/s, in_qsize 16, out_qsize 0\n",
      "2020-11-06 00:56:48,945 : INFO : EPOCH 7 - PROGRESS: at 28.51% examples, 578612 words/s, in_qsize 16, out_qsize 2\n",
      "2020-11-06 00:56:49,979 : INFO : EPOCH 7 - PROGRESS: at 36.40% examples, 588934 words/s, in_qsize 15, out_qsize 0\n",
      "2020-11-06 00:56:50,983 : INFO : EPOCH 7 - PROGRESS: at 44.29% examples, 598409 words/s, in_qsize 15, out_qsize 0\n"
     ]
    },
    {
     "name": "stderr",
     "output_type": "stream",
     "text": [
      "2020-11-06 00:56:52,091 : INFO : EPOCH 7 - PROGRESS: at 51.97% examples, 594296 words/s, in_qsize 14, out_qsize 1\n",
      "2020-11-06 00:56:53,133 : INFO : EPOCH 7 - PROGRESS: at 60.20% examples, 601376 words/s, in_qsize 16, out_qsize 1\n",
      "2020-11-06 00:56:54,135 : INFO : EPOCH 7 - PROGRESS: at 67.02% examples, 596870 words/s, in_qsize 15, out_qsize 0\n",
      "2020-11-06 00:56:55,129 : INFO : EPOCH 7 - PROGRESS: at 74.37% examples, 597663 words/s, in_qsize 15, out_qsize 0\n",
      "2020-11-06 00:56:56,210 : INFO : EPOCH 7 - PROGRESS: at 81.66% examples, 593582 words/s, in_qsize 16, out_qsize 0\n",
      "2020-11-06 00:56:57,273 : INFO : EPOCH 7 - PROGRESS: at 89.89% examples, 597120 words/s, in_qsize 15, out_qsize 1\n",
      "2020-11-06 00:56:58,312 : INFO : EPOCH 7 - PROGRESS: at 98.04% examples, 600896 words/s, in_qsize 13, out_qsize 2\n",
      "2020-11-06 00:56:58,428 : INFO : worker thread finished; awaiting finish of 7 more threads\n",
      "2020-11-06 00:56:58,456 : INFO : worker thread finished; awaiting finish of 6 more threads\n",
      "2020-11-06 00:56:58,466 : INFO : worker thread finished; awaiting finish of 5 more threads\n",
      "2020-11-06 00:56:58,470 : INFO : worker thread finished; awaiting finish of 4 more threads\n",
      "2020-11-06 00:56:58,485 : INFO : worker thread finished; awaiting finish of 3 more threads\n",
      "2020-11-06 00:56:58,502 : INFO : worker thread finished; awaiting finish of 2 more threads\n",
      "2020-11-06 00:56:58,506 : INFO : worker thread finished; awaiting finish of 1 more threads\n",
      "2020-11-06 00:56:58,508 : INFO : worker thread finished; awaiting finish of 0 more threads\n",
      "2020-11-06 00:56:58,510 : INFO : EPOCH - 7 : training on 9227204 raw words (8223308 effective words) took 13.6s, 604046 effective words/s\n",
      "2020-11-06 00:56:59,539 : INFO : EPOCH 8 - PROGRESS: at 7.38% examples, 601302 words/s, in_qsize 15, out_qsize 0\n",
      "2020-11-06 00:57:00,572 : INFO : EPOCH 8 - PROGRESS: at 14.76% examples, 593697 words/s, in_qsize 16, out_qsize 0\n",
      "2020-11-06 00:57:01,584 : INFO : EPOCH 8 - PROGRESS: at 22.33% examples, 600879 words/s, in_qsize 15, out_qsize 0\n",
      "2020-11-06 00:57:02,590 : INFO : EPOCH 8 - PROGRESS: at 29.81% examples, 602562 words/s, in_qsize 16, out_qsize 0\n",
      "2020-11-06 00:57:03,608 : INFO : EPOCH 8 - PROGRESS: at 37.16% examples, 601133 words/s, in_qsize 15, out_qsize 0\n",
      "2020-11-06 00:57:04,620 : INFO : EPOCH 8 - PROGRESS: at 44.62% examples, 602759 words/s, in_qsize 15, out_qsize 0\n",
      "2020-11-06 00:57:05,682 : INFO : EPOCH 8 - PROGRESS: at 52.29% examples, 601680 words/s, in_qsize 15, out_qsize 0\n",
      "2020-11-06 00:57:06,730 : INFO : EPOCH 8 - PROGRESS: at 59.87% examples, 600724 words/s, in_qsize 16, out_qsize 0\n",
      "2020-11-06 00:57:07,736 : INFO : EPOCH 8 - PROGRESS: at 67.88% examples, 606712 words/s, in_qsize 13, out_qsize 2\n",
      "2020-11-06 00:57:08,767 : INFO : EPOCH 8 - PROGRESS: at 74.05% examples, 595096 words/s, in_qsize 16, out_qsize 0\n",
      "2020-11-06 00:57:09,787 : INFO : EPOCH 8 - PROGRESS: at 82.21% examples, 600668 words/s, in_qsize 15, out_qsize 0\n",
      "2020-11-06 00:57:10,787 : INFO : EPOCH 8 - PROGRESS: at 89.45% examples, 600114 words/s, in_qsize 16, out_qsize 0\n",
      "2020-11-06 00:57:11,789 : INFO : EPOCH 8 - PROGRESS: at 97.28% examples, 603015 words/s, in_qsize 15, out_qsize 0\n",
      "2020-11-06 00:57:12,031 : INFO : worker thread finished; awaiting finish of 7 more threads\n",
      "2020-11-06 00:57:12,031 : INFO : worker thread finished; awaiting finish of 6 more threads\n",
      "2020-11-06 00:57:12,052 : INFO : worker thread finished; awaiting finish of 5 more threads\n",
      "2020-11-06 00:57:12,060 : INFO : worker thread finished; awaiting finish of 4 more threads\n",
      "2020-11-06 00:57:12,084 : INFO : worker thread finished; awaiting finish of 3 more threads\n",
      "2020-11-06 00:57:12,094 : INFO : worker thread finished; awaiting finish of 2 more threads\n",
      "2020-11-06 00:57:12,101 : INFO : worker thread finished; awaiting finish of 1 more threads\n",
      "2020-11-06 00:57:12,103 : INFO : worker thread finished; awaiting finish of 0 more threads\n",
      "2020-11-06 00:57:12,105 : INFO : EPOCH - 8 : training on 9227204 raw words (8221861 effective words) took 13.6s, 605742 effective words/s\n",
      "2020-11-06 00:57:13,127 : INFO : EPOCH 9 - PROGRESS: at 7.39% examples, 603802 words/s, in_qsize 15, out_qsize 0\n",
      "2020-11-06 00:57:14,143 : INFO : EPOCH 9 - PROGRESS: at 15.41% examples, 628011 words/s, in_qsize 14, out_qsize 1\n",
      "2020-11-06 00:57:15,150 : INFO : EPOCH 9 - PROGRESS: at 23.52% examples, 640101 words/s, in_qsize 15, out_qsize 0\n",
      "2020-11-06 00:57:16,199 : INFO : EPOCH 9 - PROGRESS: at 31.32% examples, 631444 words/s, in_qsize 15, out_qsize 0\n",
      "2020-11-06 00:57:17,206 : INFO : EPOCH 9 - PROGRESS: at 39.54% examples, 640274 words/s, in_qsize 15, out_qsize 0\n",
      "2020-11-06 00:57:18,212 : INFO : EPOCH 9 - PROGRESS: at 47.10% examples, 637274 words/s, in_qsize 15, out_qsize 0\n",
      "2020-11-06 00:57:19,213 : INFO : EPOCH 9 - PROGRESS: at 54.67% examples, 634825 words/s, in_qsize 14, out_qsize 1\n",
      "2020-11-06 00:57:20,241 : INFO : EPOCH 9 - PROGRESS: at 62.68% examples, 636084 words/s, in_qsize 15, out_qsize 0\n",
      "2020-11-06 00:57:21,249 : INFO : EPOCH 9 - PROGRESS: at 70.59% examples, 637046 words/s, in_qsize 15, out_qsize 0\n",
      "2020-11-06 00:57:22,252 : INFO : EPOCH 9 - PROGRESS: at 77.74% examples, 631970 words/s, in_qsize 15, out_qsize 0\n",
      "2020-11-06 00:57:23,252 : INFO : EPOCH 9 - PROGRESS: at 84.58% examples, 625519 words/s, in_qsize 15, out_qsize 0\n",
      "2020-11-06 00:57:24,260 : INFO : EPOCH 9 - PROGRESS: at 91.63% examples, 620696 words/s, in_qsize 15, out_qsize 0\n",
      "2020-11-06 00:57:25,214 : INFO : worker thread finished; awaiting finish of 7 more threads\n",
      "2020-11-06 00:57:25,223 : INFO : worker thread finished; awaiting finish of 6 more threads\n",
      "2020-11-06 00:57:25,224 : INFO : worker thread finished; awaiting finish of 5 more threads\n",
      "2020-11-06 00:57:25,224 : INFO : worker thread finished; awaiting finish of 4 more threads\n",
      "2020-11-06 00:57:25,240 : INFO : worker thread finished; awaiting finish of 3 more threads\n",
      "2020-11-06 00:57:25,244 : INFO : worker thread finished; awaiting finish of 2 more threads\n",
      "2020-11-06 00:57:25,253 : INFO : worker thread finished; awaiting finish of 1 more threads\n",
      "2020-11-06 00:57:25,264 : INFO : worker thread finished; awaiting finish of 0 more threads\n",
      "2020-11-06 00:57:25,266 : INFO : EPOCH - 9 : training on 9227204 raw words (8222950 effective words) took 13.1s, 625990 effective words/s\n",
      "2020-11-06 00:57:26,328 : INFO : EPOCH 10 - PROGRESS: at 7.06% examples, 555899 words/s, in_qsize 16, out_qsize 0\n",
      "2020-11-06 00:57:27,359 : INFO : EPOCH 10 - PROGRESS: at 14.86% examples, 590543 words/s, in_qsize 14, out_qsize 1\n",
      "2020-11-06 00:57:28,360 : INFO : EPOCH 10 - PROGRESS: at 22.33% examples, 598290 words/s, in_qsize 15, out_qsize 0\n",
      "2020-11-06 00:57:29,430 : INFO : EPOCH 10 - PROGRESS: at 29.70% examples, 589300 words/s, in_qsize 15, out_qsize 0\n",
      "2020-11-06 00:57:30,447 : INFO : EPOCH 10 - PROGRESS: at 37.16% examples, 592749 words/s, in_qsize 15, out_qsize 0\n",
      "2020-11-06 00:57:31,451 : INFO : EPOCH 10 - PROGRESS: at 44.29% examples, 591581 words/s, in_qsize 15, out_qsize 0\n",
      "2020-11-06 00:57:32,450 : INFO : EPOCH 10 - PROGRESS: at 51.32% examples, 589296 words/s, in_qsize 14, out_qsize 1\n",
      "2020-11-06 00:57:33,470 : INFO : EPOCH 10 - PROGRESS: at 58.90% examples, 592125 words/s, in_qsize 15, out_qsize 1\n",
      "2020-11-06 00:57:34,521 : INFO : EPOCH 10 - PROGRESS: at 66.47% examples, 592258 words/s, in_qsize 15, out_qsize 0\n",
      "2020-11-06 00:57:35,545 : INFO : EPOCH 10 - PROGRESS: at 73.84% examples, 592488 words/s, in_qsize 15, out_qsize 0\n",
      "2020-11-06 00:57:36,548 : INFO : EPOCH 10 - PROGRESS: at 81.34% examples, 593992 words/s, in_qsize 16, out_qsize 1\n",
      "2020-11-06 00:57:37,556 : INFO : EPOCH 10 - PROGRESS: at 87.94% examples, 589735 words/s, in_qsize 16, out_qsize 0\n",
      "2020-11-06 00:57:38,570 : INFO : EPOCH 10 - PROGRESS: at 95.88% examples, 593250 words/s, in_qsize 15, out_qsize 0\n",
      "2020-11-06 00:57:39,009 : INFO : worker thread finished; awaiting finish of 7 more threads\n",
      "2020-11-06 00:57:39,019 : INFO : worker thread finished; awaiting finish of 6 more threads\n",
      "2020-11-06 00:57:39,034 : INFO : worker thread finished; awaiting finish of 5 more threads\n",
      "2020-11-06 00:57:39,042 : INFO : worker thread finished; awaiting finish of 4 more threads\n",
      "2020-11-06 00:57:39,047 : INFO : worker thread finished; awaiting finish of 3 more threads\n"
     ]
    },
    {
     "name": "stderr",
     "output_type": "stream",
     "text": [
      "2020-11-06 00:57:39,063 : INFO : worker thread finished; awaiting finish of 2 more threads\n",
      "2020-11-06 00:57:39,068 : INFO : worker thread finished; awaiting finish of 1 more threads\n",
      "2020-11-06 00:57:39,084 : INFO : worker thread finished; awaiting finish of 0 more threads\n",
      "2020-11-06 00:57:39,085 : INFO : EPOCH - 10 : training on 9227204 raw words (8222732 effective words) took 13.8s, 596146 effective words/s\n",
      "2020-11-06 00:57:40,107 : INFO : EPOCH 11 - PROGRESS: at 7.28% examples, 595184 words/s, in_qsize 14, out_qsize 1\n",
      "2020-11-06 00:57:41,124 : INFO : EPOCH 11 - PROGRESS: at 15.41% examples, 628144 words/s, in_qsize 15, out_qsize 0\n",
      "2020-11-06 00:57:42,122 : INFO : EPOCH 11 - PROGRESS: at 22.22% examples, 604378 words/s, in_qsize 15, out_qsize 0\n",
      "2020-11-06 00:57:43,145 : INFO : EPOCH 11 - PROGRESS: at 29.59% examples, 602856 words/s, in_qsize 16, out_qsize 0\n",
      "2020-11-06 00:57:44,182 : INFO : EPOCH 11 - PROGRESS: at 37.70% examples, 609669 words/s, in_qsize 15, out_qsize 0\n",
      "2020-11-06 00:57:45,205 : INFO : EPOCH 11 - PROGRESS: at 45.81% examples, 618176 words/s, in_qsize 15, out_qsize 0\n",
      "2020-11-06 00:57:46,224 : INFO : EPOCH 11 - PROGRESS: at 52.29% examples, 604924 words/s, in_qsize 13, out_qsize 2\n",
      "2020-11-06 00:57:47,229 : INFO : EPOCH 11 - PROGRESS: at 60.30% examples, 611028 words/s, in_qsize 15, out_qsize 0\n",
      "2020-11-06 00:57:48,230 : INFO : EPOCH 11 - PROGRESS: at 67.77% examples, 611175 words/s, in_qsize 15, out_qsize 0\n",
      "2020-11-06 00:57:49,242 : INFO : EPOCH 11 - PROGRESS: at 75.13% examples, 609685 words/s, in_qsize 15, out_qsize 0\n",
      "2020-11-06 00:57:50,272 : INFO : EPOCH 11 - PROGRESS: at 82.64% examples, 608934 words/s, in_qsize 15, out_qsize 0\n",
      "2020-11-06 00:57:51,279 : INFO : EPOCH 11 - PROGRESS: at 90.44% examples, 611293 words/s, in_qsize 15, out_qsize 0\n",
      "2020-11-06 00:57:52,297 : INFO : EPOCH 11 - PROGRESS: at 97.61% examples, 608660 words/s, in_qsize 15, out_qsize 0\n",
      "2020-11-06 00:57:52,484 : INFO : worker thread finished; awaiting finish of 7 more threads\n",
      "2020-11-06 00:57:52,484 : INFO : worker thread finished; awaiting finish of 6 more threads\n",
      "2020-11-06 00:57:52,499 : INFO : worker thread finished; awaiting finish of 5 more threads\n",
      "2020-11-06 00:57:52,507 : INFO : worker thread finished; awaiting finish of 4 more threads\n",
      "2020-11-06 00:57:52,523 : INFO : worker thread finished; awaiting finish of 3 more threads\n",
      "2020-11-06 00:57:52,531 : INFO : worker thread finished; awaiting finish of 2 more threads\n",
      "2020-11-06 00:57:52,540 : INFO : worker thread finished; awaiting finish of 1 more threads\n",
      "2020-11-06 00:57:52,545 : INFO : worker thread finished; awaiting finish of 0 more threads\n",
      "2020-11-06 00:57:52,547 : INFO : EPOCH - 11 : training on 9227204 raw words (8223417 effective words) took 13.4s, 612020 effective words/s\n",
      "2020-11-06 00:57:53,643 : INFO : EPOCH 12 - PROGRESS: at 6.95% examples, 530733 words/s, in_qsize 16, out_qsize 0\n",
      "2020-11-06 00:57:54,667 : INFO : EPOCH 12 - PROGRESS: at 14.11% examples, 552829 words/s, in_qsize 16, out_qsize 0\n",
      "2020-11-06 00:57:55,677 : INFO : EPOCH 12 - PROGRESS: at 21.68% examples, 572565 words/s, in_qsize 14, out_qsize 1\n",
      "2020-11-06 00:57:56,688 : INFO : EPOCH 12 - PROGRESS: at 29.26% examples, 584317 words/s, in_qsize 15, out_qsize 0\n",
      "2020-11-06 00:57:57,686 : INFO : EPOCH 12 - PROGRESS: at 35.97% examples, 577455 words/s, in_qsize 13, out_qsize 2\n",
      "2020-11-06 00:57:58,703 : INFO : EPOCH 12 - PROGRESS: at 43.43% examples, 582581 words/s, in_qsize 15, out_qsize 0\n",
      "2020-11-06 00:57:59,706 : INFO : EPOCH 12 - PROGRESS: at 50.78% examples, 584967 words/s, in_qsize 15, out_qsize 0\n",
      "2020-11-06 00:58:00,726 : INFO : EPOCH 12 - PROGRESS: at 58.58% examples, 591163 words/s, in_qsize 13, out_qsize 2\n",
      "2020-11-06 00:58:01,816 : INFO : EPOCH 12 - PROGRESS: at 65.17% examples, 580001 words/s, in_qsize 15, out_qsize 0\n",
      "2020-11-06 00:58:02,817 : INFO : EPOCH 12 - PROGRESS: at 71.56% examples, 574289 words/s, in_qsize 15, out_qsize 0\n",
      "2020-11-06 00:58:03,823 : INFO : EPOCH 12 - PROGRESS: at 78.40% examples, 572902 words/s, in_qsize 13, out_qsize 3\n",
      "2020-11-06 00:58:04,826 : INFO : EPOCH 12 - PROGRESS: at 85.66% examples, 574850 words/s, in_qsize 15, out_qsize 0\n",
      "2020-11-06 00:58:05,824 : INFO : EPOCH 12 - PROGRESS: at 93.26% examples, 578477 words/s, in_qsize 15, out_qsize 0\n",
      "2020-11-06 00:58:06,631 : INFO : worker thread finished; awaiting finish of 7 more threads\n",
      "2020-11-06 00:58:06,631 : INFO : worker thread finished; awaiting finish of 6 more threads\n",
      "2020-11-06 00:58:06,656 : INFO : worker thread finished; awaiting finish of 5 more threads\n",
      "2020-11-06 00:58:06,657 : INFO : worker thread finished; awaiting finish of 4 more threads\n",
      "2020-11-06 00:58:06,675 : INFO : worker thread finished; awaiting finish of 3 more threads\n",
      "2020-11-06 00:58:06,690 : INFO : worker thread finished; awaiting finish of 2 more threads\n",
      "2020-11-06 00:58:06,700 : INFO : worker thread finished; awaiting finish of 1 more threads\n",
      "2020-11-06 00:58:06,707 : INFO : worker thread finished; awaiting finish of 0 more threads\n",
      "2020-11-06 00:58:06,708 : INFO : EPOCH - 12 : training on 9227204 raw words (8222922 effective words) took 14.1s, 581691 effective words/s\n",
      "2020-11-06 00:58:07,735 : INFO : EPOCH 13 - PROGRESS: at 6.73% examples, 546163 words/s, in_qsize 15, out_qsize 0\n",
      "2020-11-06 00:58:08,746 : INFO : EPOCH 13 - PROGRESS: at 14.75% examples, 598758 words/s, in_qsize 15, out_qsize 0\n",
      "2020-11-06 00:58:09,777 : INFO : EPOCH 13 - PROGRESS: at 21.14% examples, 572982 words/s, in_qsize 10, out_qsize 2\n",
      "2020-11-06 00:58:10,789 : INFO : EPOCH 13 - PROGRESS: at 28.40% examples, 575094 words/s, in_qsize 16, out_qsize 0\n",
      "2020-11-06 00:58:11,796 : INFO : EPOCH 13 - PROGRESS: at 36.72% examples, 596702 words/s, in_qsize 15, out_qsize 0\n",
      "2020-11-06 00:58:12,803 : INFO : EPOCH 13 - PROGRESS: at 44.29% examples, 600085 words/s, in_qsize 15, out_qsize 0\n",
      "2020-11-06 00:58:13,811 : INFO : EPOCH 13 - PROGRESS: at 52.29% examples, 608381 words/s, in_qsize 15, out_qsize 0\n",
      "2020-11-06 00:58:14,811 : INFO : EPOCH 13 - PROGRESS: at 59.76% examples, 608891 words/s, in_qsize 16, out_qsize 0\n",
      "2020-11-06 00:58:15,848 : INFO : EPOCH 13 - PROGRESS: at 67.88% examples, 613160 words/s, in_qsize 15, out_qsize 0\n",
      "2020-11-06 00:58:16,899 : INFO : EPOCH 13 - PROGRESS: at 75.57% examples, 611635 words/s, in_qsize 15, out_qsize 0\n",
      "2020-11-06 00:58:17,917 : INFO : EPOCH 13 - PROGRESS: at 83.72% examples, 615974 words/s, in_qsize 15, out_qsize 0\n",
      "2020-11-06 00:58:18,936 : INFO : EPOCH 13 - PROGRESS: at 91.31% examples, 615616 words/s, in_qsize 12, out_qsize 3\n",
      "2020-11-06 00:58:19,906 : INFO : worker thread finished; awaiting finish of 7 more threads\n",
      "2020-11-06 00:58:19,916 : INFO : worker thread finished; awaiting finish of 6 more threads\n",
      "2020-11-06 00:58:19,932 : INFO : EPOCH 13 - PROGRESS: at 99.45% examples, 619620 words/s, in_qsize 5, out_qsize 1\n",
      "2020-11-06 00:58:19,932 : INFO : worker thread finished; awaiting finish of 5 more threads\n",
      "2020-11-06 00:58:19,948 : INFO : worker thread finished; awaiting finish of 4 more threads\n",
      "2020-11-06 00:58:19,948 : INFO : worker thread finished; awaiting finish of 3 more threads\n",
      "2020-11-06 00:58:19,948 : INFO : worker thread finished; awaiting finish of 2 more threads\n",
      "2020-11-06 00:58:19,968 : INFO : worker thread finished; awaiting finish of 1 more threads\n",
      "2020-11-06 00:58:19,979 : INFO : worker thread finished; awaiting finish of 0 more threads\n",
      "2020-11-06 00:58:19,981 : INFO : EPOCH - 13 : training on 9227204 raw words (8223163 effective words) took 13.2s, 620914 effective words/s\n",
      "2020-11-06 00:58:21,002 : INFO : EPOCH 14 - PROGRESS: at 7.49% examples, 614270 words/s, in_qsize 16, out_qsize 1\n",
      "2020-11-06 00:58:22,056 : INFO : EPOCH 14 - PROGRESS: at 15.41% examples, 615121 words/s, in_qsize 15, out_qsize 0\n",
      "2020-11-06 00:58:23,058 : INFO : EPOCH 14 - PROGRESS: at 23.52% examples, 631440 words/s, in_qsize 15, out_qsize 0\n",
      "2020-11-06 00:58:24,123 : INFO : EPOCH 14 - PROGRESS: at 31.11% examples, 620479 words/s, in_qsize 15, out_qsize 0\n",
      "2020-11-06 00:58:25,134 : INFO : EPOCH 14 - PROGRESS: at 39.00% examples, 624158 words/s, in_qsize 16, out_qsize 3\n",
      "2020-11-06 00:58:26,146 : INFO : EPOCH 14 - PROGRESS: at 47.32% examples, 633239 words/s, in_qsize 13, out_qsize 2\n",
      "2020-11-06 00:58:27,150 : INFO : EPOCH 14 - PROGRESS: at 54.78% examples, 630537 words/s, in_qsize 15, out_qsize 0\n"
     ]
    },
    {
     "name": "stderr",
     "output_type": "stream",
     "text": [
      "2020-11-06 00:58:28,157 : INFO : EPOCH 14 - PROGRESS: at 61.82% examples, 623602 words/s, in_qsize 15, out_qsize 0\n",
      "2020-11-06 00:58:29,192 : INFO : EPOCH 14 - PROGRESS: at 69.07% examples, 618412 words/s, in_qsize 15, out_qsize 0\n",
      "2020-11-06 00:58:30,234 : INFO : EPOCH 14 - PROGRESS: at 76.00% examples, 610958 words/s, in_qsize 15, out_qsize 0\n",
      "2020-11-06 00:58:31,334 : INFO : EPOCH 14 - PROGRESS: at 83.62% examples, 606615 words/s, in_qsize 14, out_qsize 2\n",
      "2020-11-06 00:58:32,350 : INFO : EPOCH 14 - PROGRESS: at 90.87% examples, 605021 words/s, in_qsize 15, out_qsize 0\n",
      "2020-11-06 00:58:33,350 : INFO : EPOCH 14 - PROGRESS: at 98.26% examples, 605033 words/s, in_qsize 15, out_qsize 0\n",
      "2020-11-06 00:58:33,491 : INFO : worker thread finished; awaiting finish of 7 more threads\n",
      "2020-11-06 00:58:33,508 : INFO : worker thread finished; awaiting finish of 6 more threads\n",
      "2020-11-06 00:58:33,508 : INFO : worker thread finished; awaiting finish of 5 more threads\n",
      "2020-11-06 00:58:33,540 : INFO : worker thread finished; awaiting finish of 4 more threads\n",
      "2020-11-06 00:58:33,548 : INFO : worker thread finished; awaiting finish of 3 more threads\n",
      "2020-11-06 00:58:33,552 : INFO : worker thread finished; awaiting finish of 2 more threads\n",
      "2020-11-06 00:58:33,554 : INFO : worker thread finished; awaiting finish of 1 more threads\n",
      "2020-11-06 00:58:33,557 : INFO : worker thread finished; awaiting finish of 0 more threads\n",
      "2020-11-06 00:58:33,558 : INFO : EPOCH - 14 : training on 9227204 raw words (8222747 effective words) took 13.6s, 606575 effective words/s\n",
      "2020-11-06 00:58:34,584 : INFO : EPOCH 15 - PROGRESS: at 6.19% examples, 507397 words/s, in_qsize 10, out_qsize 2\n",
      "2020-11-06 00:58:35,594 : INFO : EPOCH 15 - PROGRESS: at 13.79% examples, 559492 words/s, in_qsize 14, out_qsize 1\n",
      "2020-11-06 00:58:36,622 : INFO : EPOCH 15 - PROGRESS: at 21.25% examples, 574412 words/s, in_qsize 11, out_qsize 4\n",
      "2020-11-06 00:58:37,621 : INFO : EPOCH 15 - PROGRESS: at 28.61% examples, 582159 words/s, in_qsize 16, out_qsize 0\n",
      "2020-11-06 00:58:38,636 : INFO : EPOCH 15 - PROGRESS: at 34.89% examples, 567589 words/s, in_qsize 15, out_qsize 0\n",
      "2020-11-06 00:58:39,665 : INFO : EPOCH 15 - PROGRESS: at 41.91% examples, 566518 words/s, in_qsize 15, out_qsize 0\n",
      "2020-11-06 00:58:40,693 : INFO : EPOCH 15 - PROGRESS: at 48.29% examples, 558780 words/s, in_qsize 11, out_qsize 4\n",
      "2020-11-06 00:58:41,742 : INFO : EPOCH 15 - PROGRESS: at 56.29% examples, 567721 words/s, in_qsize 15, out_qsize 0\n",
      "2020-11-06 00:58:42,769 : INFO : EPOCH 15 - PROGRESS: at 63.86% examples, 572285 words/s, in_qsize 15, out_qsize 0\n",
      "2020-11-06 00:58:43,778 : INFO : EPOCH 15 - PROGRESS: at 72.10% examples, 581707 words/s, in_qsize 15, out_qsize 0\n",
      "2020-11-06 00:58:44,798 : INFO : EPOCH 15 - PROGRESS: at 78.18% examples, 573229 words/s, in_qsize 16, out_qsize 0\n",
      "2020-11-06 00:58:45,806 : INFO : EPOCH 15 - PROGRESS: at 85.66% examples, 576451 words/s, in_qsize 13, out_qsize 2\n",
      "2020-11-06 00:58:46,849 : INFO : EPOCH 15 - PROGRESS: at 93.92% examples, 581758 words/s, in_qsize 16, out_qsize 0\n",
      "2020-11-06 00:58:47,503 : INFO : worker thread finished; awaiting finish of 7 more threads\n",
      "2020-11-06 00:58:47,540 : INFO : worker thread finished; awaiting finish of 6 more threads\n",
      "2020-11-06 00:58:47,541 : INFO : worker thread finished; awaiting finish of 5 more threads\n",
      "2020-11-06 00:58:47,546 : INFO : worker thread finished; awaiting finish of 4 more threads\n",
      "2020-11-06 00:58:47,555 : INFO : worker thread finished; awaiting finish of 3 more threads\n",
      "2020-11-06 00:58:47,555 : INFO : worker thread finished; awaiting finish of 2 more threads\n",
      "2020-11-06 00:58:47,563 : INFO : worker thread finished; awaiting finish of 1 more threads\n",
      "2020-11-06 00:58:47,573 : INFO : worker thread finished; awaiting finish of 0 more threads\n",
      "2020-11-06 00:58:47,575 : INFO : EPOCH - 15 : training on 9227204 raw words (8222679 effective words) took 14.0s, 587650 effective words/s\n",
      "2020-11-06 00:58:48,630 : INFO : EPOCH 16 - PROGRESS: at 7.50% examples, 593330 words/s, in_qsize 14, out_qsize 1\n",
      "2020-11-06 00:58:49,641 : INFO : EPOCH 16 - PROGRESS: at 15.19% examples, 611190 words/s, in_qsize 14, out_qsize 1\n",
      "2020-11-06 00:58:50,643 : INFO : EPOCH 16 - PROGRESS: at 22.54% examples, 608119 words/s, in_qsize 15, out_qsize 0\n",
      "2020-11-06 00:58:51,676 : INFO : EPOCH 16 - PROGRESS: at 29.70% examples, 599180 words/s, in_qsize 11, out_qsize 4\n",
      "2020-11-06 00:58:52,675 : INFO : EPOCH 16 - PROGRESS: at 36.94% examples, 598430 words/s, in_qsize 15, out_qsize 0\n",
      "2020-11-06 00:58:53,700 : INFO : EPOCH 16 - PROGRESS: at 44.51% examples, 599633 words/s, in_qsize 15, out_qsize 0\n",
      "2020-11-06 00:58:54,720 : INFO : EPOCH 16 - PROGRESS: at 52.07% examples, 601674 words/s, in_qsize 14, out_qsize 1\n",
      "2020-11-06 00:58:55,738 : INFO : EPOCH 16 - PROGRESS: at 58.69% examples, 592898 words/s, in_qsize 16, out_qsize 0\n",
      "2020-11-06 00:58:56,780 : INFO : EPOCH 16 - PROGRESS: at 65.60% examples, 587692 words/s, in_qsize 16, out_qsize 2\n",
      "2020-11-06 00:58:57,786 : INFO : EPOCH 16 - PROGRESS: at 73.41% examples, 592731 words/s, in_qsize 15, out_qsize 0\n",
      "2020-11-06 00:58:58,803 : INFO : EPOCH 16 - PROGRESS: at 81.12% examples, 595477 words/s, in_qsize 15, out_qsize 0\n",
      "2020-11-06 00:58:59,804 : INFO : EPOCH 16 - PROGRESS: at 88.48% examples, 596275 words/s, in_qsize 15, out_qsize 0\n",
      "2020-11-06 00:59:00,814 : INFO : EPOCH 16 - PROGRESS: at 95.88% examples, 596701 words/s, in_qsize 14, out_qsize 1\n",
      "2020-11-06 00:59:01,224 : INFO : worker thread finished; awaiting finish of 7 more threads\n",
      "2020-11-06 00:59:01,224 : INFO : worker thread finished; awaiting finish of 6 more threads\n",
      "2020-11-06 00:59:01,224 : INFO : worker thread finished; awaiting finish of 5 more threads\n",
      "2020-11-06 00:59:01,224 : INFO : worker thread finished; awaiting finish of 4 more threads\n",
      "2020-11-06 00:59:01,224 : INFO : worker thread finished; awaiting finish of 3 more threads\n",
      "2020-11-06 00:59:01,255 : INFO : worker thread finished; awaiting finish of 2 more threads\n",
      "2020-11-06 00:59:01,263 : INFO : worker thread finished; awaiting finish of 1 more threads\n",
      "2020-11-06 00:59:01,266 : INFO : worker thread finished; awaiting finish of 0 more threads\n",
      "2020-11-06 00:59:01,268 : INFO : EPOCH - 16 : training on 9227204 raw words (8223417 effective words) took 13.7s, 601695 effective words/s\n",
      "2020-11-06 00:59:02,315 : INFO : EPOCH 17 - PROGRESS: at 7.06% examples, 561286 words/s, in_qsize 16, out_qsize 0\n",
      "2020-11-06 00:59:03,360 : INFO : EPOCH 17 - PROGRESS: at 14.65% examples, 580961 words/s, in_qsize 14, out_qsize 1\n",
      "2020-11-06 00:59:04,391 : INFO : EPOCH 17 - PROGRESS: at 21.03% examples, 556982 words/s, in_qsize 16, out_qsize 1\n",
      "2020-11-06 00:59:05,403 : INFO : EPOCH 17 - PROGRESS: at 27.75% examples, 553825 words/s, in_qsize 13, out_qsize 3\n",
      "2020-11-06 00:59:06,417 : INFO : EPOCH 17 - PROGRESS: at 35.32% examples, 566504 words/s, in_qsize 15, out_qsize 0\n",
      "2020-11-06 00:59:07,410 : INFO : EPOCH 17 - PROGRESS: at 42.78% examples, 573768 words/s, in_qsize 15, out_qsize 0\n",
      "2020-11-06 00:59:08,435 : INFO : EPOCH 17 - PROGRESS: at 50.78% examples, 583914 words/s, in_qsize 15, out_qsize 0\n",
      "2020-11-06 00:59:09,463 : INFO : EPOCH 17 - PROGRESS: at 57.60% examples, 579386 words/s, in_qsize 16, out_qsize 0\n",
      "2020-11-06 00:59:10,474 : INFO : EPOCH 17 - PROGRESS: at 65.17% examples, 583660 words/s, in_qsize 15, out_qsize 0\n",
      "2020-11-06 00:59:11,501 : INFO : EPOCH 17 - PROGRESS: at 72.97% examples, 588020 words/s, in_qsize 15, out_qsize 0\n",
      "2020-11-06 00:59:12,556 : INFO : EPOCH 17 - PROGRESS: at 80.80% examples, 589579 words/s, in_qsize 15, out_qsize 0\n",
      "2020-11-06 00:59:13,599 : INFO : EPOCH 17 - PROGRESS: at 89.23% examples, 596322 words/s, in_qsize 15, out_qsize 0\n",
      "2020-11-06 00:59:14,619 : INFO : EPOCH 17 - PROGRESS: at 96.42% examples, 594464 words/s, in_qsize 15, out_qsize 0\n",
      "2020-11-06 00:59:14,958 : INFO : worker thread finished; awaiting finish of 7 more threads\n",
      "2020-11-06 00:59:14,968 : INFO : worker thread finished; awaiting finish of 6 more threads\n",
      "2020-11-06 00:59:14,976 : INFO : worker thread finished; awaiting finish of 5 more threads\n",
      "2020-11-06 00:59:14,996 : INFO : worker thread finished; awaiting finish of 4 more threads\n",
      "2020-11-06 00:59:15,005 : INFO : worker thread finished; awaiting finish of 3 more threads\n"
     ]
    },
    {
     "name": "stderr",
     "output_type": "stream",
     "text": [
      "2020-11-06 00:59:15,011 : INFO : worker thread finished; awaiting finish of 2 more threads\n",
      "2020-11-06 00:59:15,014 : INFO : worker thread finished; awaiting finish of 1 more threads\n",
      "2020-11-06 00:59:15,018 : INFO : worker thread finished; awaiting finish of 0 more threads\n",
      "2020-11-06 00:59:15,019 : INFO : EPOCH - 17 : training on 9227204 raw words (8222101 effective words) took 13.7s, 598925 effective words/s\n",
      "2020-11-06 00:59:16,045 : INFO : EPOCH 18 - PROGRESS: at 6.51% examples, 533894 words/s, in_qsize 15, out_qsize 0\n",
      "2020-11-06 00:59:17,052 : INFO : EPOCH 18 - PROGRESS: at 13.68% examples, 558356 words/s, in_qsize 15, out_qsize 0\n",
      "2020-11-06 00:59:18,055 : INFO : EPOCH 18 - PROGRESS: at 20.59% examples, 561312 words/s, in_qsize 15, out_qsize 0\n",
      "2020-11-06 00:59:19,061 : INFO : EPOCH 18 - PROGRESS: at 28.29% examples, 577918 words/s, in_qsize 14, out_qsize 2\n",
      "2020-11-06 00:59:20,077 : INFO : EPOCH 18 - PROGRESS: at 34.35% examples, 560884 words/s, in_qsize 16, out_qsize 0\n",
      "2020-11-06 00:59:21,088 : INFO : EPOCH 18 - PROGRESS: at 40.19% examples, 545876 words/s, in_qsize 15, out_qsize 0\n",
      "2020-11-06 00:59:22,125 : INFO : EPOCH 18 - PROGRESS: at 47.86% examples, 555838 words/s, in_qsize 14, out_qsize 1\n",
      "2020-11-06 00:59:23,150 : INFO : EPOCH 18 - PROGRESS: at 54.67% examples, 554790 words/s, in_qsize 15, out_qsize 0\n",
      "2020-11-06 00:59:24,206 : INFO : EPOCH 18 - PROGRESS: at 63.00% examples, 565773 words/s, in_qsize 16, out_qsize 0\n",
      "2020-11-06 00:59:25,208 : INFO : EPOCH 18 - PROGRESS: at 70.26% examples, 568570 words/s, in_qsize 14, out_qsize 1\n",
      "2020-11-06 00:59:26,216 : INFO : EPOCH 18 - PROGRESS: at 77.31% examples, 569373 words/s, in_qsize 15, out_qsize 2\n",
      "2020-11-06 00:59:27,215 : INFO : EPOCH 18 - PROGRESS: at 85.66% examples, 578784 words/s, in_qsize 15, out_qsize 0\n",
      "2020-11-06 00:59:28,225 : INFO : EPOCH 18 - PROGRESS: at 92.61% examples, 577768 words/s, in_qsize 15, out_qsize 0\n",
      "2020-11-06 00:59:29,098 : INFO : worker thread finished; awaiting finish of 7 more threads\n",
      "2020-11-06 00:59:29,098 : INFO : worker thread finished; awaiting finish of 6 more threads\n",
      "2020-11-06 00:59:29,119 : INFO : worker thread finished; awaiting finish of 5 more threads\n",
      "2020-11-06 00:59:29,138 : INFO : worker thread finished; awaiting finish of 4 more threads\n",
      "2020-11-06 00:59:29,148 : INFO : worker thread finished; awaiting finish of 3 more threads\n",
      "2020-11-06 00:59:29,172 : INFO : worker thread finished; awaiting finish of 2 more threads\n",
      "2020-11-06 00:59:29,173 : INFO : worker thread finished; awaiting finish of 1 more threads\n",
      "2020-11-06 00:59:29,175 : INFO : worker thread finished; awaiting finish of 0 more threads\n",
      "2020-11-06 00:59:29,175 : INFO : EPOCH - 18 : training on 9227204 raw words (8222485 effective words) took 14.1s, 581918 effective words/s\n",
      "2020-11-06 00:59:30,194 : INFO : EPOCH 19 - PROGRESS: at 7.17% examples, 587715 words/s, in_qsize 14, out_qsize 1\n",
      "2020-11-06 00:59:31,244 : INFO : EPOCH 19 - PROGRESS: at 15.08% examples, 603844 words/s, in_qsize 15, out_qsize 0\n",
      "2020-11-06 00:59:32,270 : INFO : EPOCH 19 - PROGRESS: at 22.65% examples, 604651 words/s, in_qsize 15, out_qsize 0\n",
      "2020-11-06 00:59:33,282 : INFO : EPOCH 19 - PROGRESS: at 29.05% examples, 583304 words/s, in_qsize 16, out_qsize 1\n",
      "2020-11-06 00:59:34,292 : INFO : EPOCH 19 - PROGRESS: at 36.72% examples, 592330 words/s, in_qsize 16, out_qsize 0\n",
      "2020-11-06 00:59:35,301 : INFO : EPOCH 19 - PROGRESS: at 43.54% examples, 585892 words/s, in_qsize 15, out_qsize 0\n",
      "2020-11-06 00:59:36,319 : INFO : EPOCH 19 - PROGRESS: at 51.64% examples, 596321 words/s, in_qsize 14, out_qsize 1\n",
      "2020-11-06 00:59:37,325 : INFO : EPOCH 19 - PROGRESS: at 58.26% examples, 589130 words/s, in_qsize 15, out_qsize 0\n",
      "2020-11-06 00:59:38,328 : INFO : EPOCH 19 - PROGRESS: at 65.83% examples, 592238 words/s, in_qsize 15, out_qsize 0\n",
      "2020-11-06 00:59:39,356 : INFO : EPOCH 19 - PROGRESS: at 73.62% examples, 595786 words/s, in_qsize 14, out_qsize 1\n",
      "2020-11-06 00:59:40,353 : INFO : EPOCH 19 - PROGRESS: at 81.23% examples, 598145 words/s, in_qsize 15, out_qsize 0\n",
      "2020-11-06 00:59:41,379 : INFO : EPOCH 19 - PROGRESS: at 89.02% examples, 600667 words/s, in_qsize 15, out_qsize 0\n",
      "2020-11-06 00:59:42,411 : INFO : EPOCH 19 - PROGRESS: at 94.69% examples, 588727 words/s, in_qsize 15, out_qsize 0\n",
      "2020-11-06 00:59:43,062 : INFO : worker thread finished; awaiting finish of 7 more threads\n",
      "2020-11-06 00:59:43,086 : INFO : worker thread finished; awaiting finish of 6 more threads\n",
      "2020-11-06 00:59:43,094 : INFO : worker thread finished; awaiting finish of 5 more threads\n",
      "2020-11-06 00:59:43,099 : INFO : worker thread finished; awaiting finish of 4 more threads\n",
      "2020-11-06 00:59:43,126 : INFO : worker thread finished; awaiting finish of 3 more threads\n",
      "2020-11-06 00:59:43,136 : INFO : worker thread finished; awaiting finish of 2 more threads\n",
      "2020-11-06 00:59:43,139 : INFO : worker thread finished; awaiting finish of 1 more threads\n",
      "2020-11-06 00:59:43,158 : INFO : worker thread finished; awaiting finish of 0 more threads\n",
      "2020-11-06 00:59:43,161 : INFO : EPOCH - 19 : training on 9227204 raw words (8222306 effective words) took 14.0s, 588700 effective words/s\n",
      "2020-11-06 00:59:44,218 : INFO : EPOCH 20 - PROGRESS: at 5.86% examples, 463176 words/s, in_qsize 16, out_qsize 0\n",
      "2020-11-06 00:59:45,230 : INFO : EPOCH 20 - PROGRESS: at 14.43% examples, 578274 words/s, in_qsize 15, out_qsize 0\n",
      "2020-11-06 00:59:46,256 : INFO : EPOCH 20 - PROGRESS: at 21.90% examples, 585385 words/s, in_qsize 13, out_qsize 2\n",
      "2020-11-06 00:59:47,265 : INFO : EPOCH 20 - PROGRESS: at 30.46% examples, 613510 words/s, in_qsize 15, out_qsize 0\n",
      "2020-11-06 00:59:48,308 : INFO : EPOCH 20 - PROGRESS: at 38.46% examples, 617201 words/s, in_qsize 15, out_qsize 0\n",
      "2020-11-06 00:59:49,316 : INFO : EPOCH 20 - PROGRESS: at 46.46% examples, 621778 words/s, in_qsize 14, out_qsize 1\n",
      "2020-11-06 00:59:50,340 : INFO : EPOCH 20 - PROGRESS: at 54.67% examples, 627495 words/s, in_qsize 13, out_qsize 2\n",
      "2020-11-06 00:59:51,367 : INFO : EPOCH 20 - PROGRESS: at 62.79% examples, 630915 words/s, in_qsize 15, out_qsize 0\n",
      "2020-11-06 00:59:52,401 : INFO : EPOCH 20 - PROGRESS: at 70.91% examples, 633097 words/s, in_qsize 15, out_qsize 0\n",
      "2020-11-06 00:59:53,436 : INFO : EPOCH 20 - PROGRESS: at 78.95% examples, 632672 words/s, in_qsize 15, out_qsize 0\n",
      "2020-11-06 00:59:54,476 : INFO : EPOCH 20 - PROGRESS: at 87.29% examples, 635624 words/s, in_qsize 16, out_qsize 0\n",
      "2020-11-06 00:59:55,473 : INFO : EPOCH 20 - PROGRESS: at 95.55% examples, 638689 words/s, in_qsize 15, out_qsize 0\n",
      "2020-11-06 00:59:55,963 : INFO : worker thread finished; awaiting finish of 7 more threads\n",
      "2020-11-06 00:59:55,971 : INFO : worker thread finished; awaiting finish of 6 more threads\n",
      "2020-11-06 00:59:55,979 : INFO : worker thread finished; awaiting finish of 5 more threads\n",
      "2020-11-06 00:59:55,984 : INFO : worker thread finished; awaiting finish of 4 more threads\n",
      "2020-11-06 00:59:55,986 : INFO : worker thread finished; awaiting finish of 3 more threads\n",
      "2020-11-06 00:59:55,991 : INFO : worker thread finished; awaiting finish of 2 more threads\n",
      "2020-11-06 00:59:56,014 : INFO : worker thread finished; awaiting finish of 1 more threads\n",
      "2020-11-06 00:59:56,021 : INFO : worker thread finished; awaiting finish of 0 more threads\n",
      "2020-11-06 00:59:56,022 : INFO : EPOCH - 20 : training on 9227204 raw words (8222664 effective words) took 12.8s, 640496 effective words/s\n",
      "2020-11-06 00:59:57,069 : INFO : EPOCH 21 - PROGRESS: at 6.73% examples, 534456 words/s, in_qsize 14, out_qsize 1\n",
      "2020-11-06 00:59:58,081 : INFO : EPOCH 21 - PROGRESS: at 14.32% examples, 577407 words/s, in_qsize 15, out_qsize 0\n",
      "2020-11-06 00:59:59,088 : INFO : EPOCH 21 - PROGRESS: at 21.35% examples, 577427 words/s, in_qsize 15, out_qsize 0\n",
      "2020-11-06 01:00:00,112 : INFO : EPOCH 21 - PROGRESS: at 27.64% examples, 559335 words/s, in_qsize 13, out_qsize 2\n",
      "2020-11-06 01:00:01,133 : INFO : EPOCH 21 - PROGRESS: at 35.42% examples, 572433 words/s, in_qsize 16, out_qsize 0\n",
      "2020-11-06 01:00:02,158 : INFO : EPOCH 21 - PROGRESS: at 40.62% examples, 547065 words/s, in_qsize 15, out_qsize 0\n",
      "2020-11-06 01:00:03,163 : INFO : EPOCH 21 - PROGRESS: at 47.10% examples, 544489 words/s, in_qsize 13, out_qsize 1\n",
      "2020-11-06 01:00:04,171 : INFO : EPOCH 21 - PROGRESS: at 53.48% examples, 541344 words/s, in_qsize 15, out_qsize 0\n"
     ]
    },
    {
     "name": "stderr",
     "output_type": "stream",
     "text": [
      "2020-11-06 01:00:05,229 : INFO : EPOCH 21 - PROGRESS: at 59.66% examples, 534059 words/s, in_qsize 15, out_qsize 0\n",
      "2020-11-06 01:00:06,278 : INFO : EPOCH 21 - PROGRESS: at 65.93% examples, 530239 words/s, in_qsize 16, out_qsize 0\n",
      "2020-11-06 01:00:07,297 : INFO : EPOCH 21 - PROGRESS: at 72.97% examples, 533828 words/s, in_qsize 15, out_qsize 0\n",
      "2020-11-06 01:00:08,298 : INFO : EPOCH 21 - PROGRESS: at 80.69% examples, 541596 words/s, in_qsize 14, out_qsize 1\n",
      "2020-11-06 01:00:09,296 : INFO : EPOCH 21 - PROGRESS: at 88.48% examples, 548996 words/s, in_qsize 15, out_qsize 0\n",
      "2020-11-06 01:00:10,349 : INFO : EPOCH 21 - PROGRESS: at 96.31% examples, 553771 words/s, in_qsize 15, out_qsize 0\n",
      "2020-11-06 01:00:10,657 : INFO : worker thread finished; awaiting finish of 7 more threads\n",
      "2020-11-06 01:00:10,683 : INFO : worker thread finished; awaiting finish of 6 more threads\n",
      "2020-11-06 01:00:10,691 : INFO : worker thread finished; awaiting finish of 5 more threads\n",
      "2020-11-06 01:00:10,699 : INFO : worker thread finished; awaiting finish of 4 more threads\n",
      "2020-11-06 01:00:10,715 : INFO : worker thread finished; awaiting finish of 3 more threads\n",
      "2020-11-06 01:00:10,725 : INFO : worker thread finished; awaiting finish of 2 more threads\n",
      "2020-11-06 01:00:10,733 : INFO : worker thread finished; awaiting finish of 1 more threads\n",
      "2020-11-06 01:00:10,747 : INFO : worker thread finished; awaiting finish of 0 more threads\n",
      "2020-11-06 01:00:10,748 : INFO : EPOCH - 21 : training on 9227204 raw words (8223275 effective words) took 14.7s, 559467 effective words/s\n",
      "2020-11-06 01:00:11,787 : INFO : EPOCH 22 - PROGRESS: at 6.84% examples, 551100 words/s, in_qsize 15, out_qsize 0\n",
      "2020-11-06 01:00:12,801 : INFO : EPOCH 22 - PROGRESS: at 14.22% examples, 572655 words/s, in_qsize 15, out_qsize 0\n",
      "2020-11-06 01:00:13,809 : INFO : EPOCH 22 - PROGRESS: at 20.16% examples, 544864 words/s, in_qsize 13, out_qsize 2\n",
      "2020-11-06 01:00:14,807 : INFO : EPOCH 22 - PROGRESS: at 26.34% examples, 535285 words/s, in_qsize 14, out_qsize 1\n",
      "2020-11-06 01:00:15,847 : INFO : EPOCH 22 - PROGRESS: at 33.92% examples, 548440 words/s, in_qsize 15, out_qsize 0\n",
      "2020-11-06 01:00:16,854 : INFO : EPOCH 22 - PROGRESS: at 40.94% examples, 553287 words/s, in_qsize 15, out_qsize 0\n",
      "2020-11-06 01:00:17,873 : INFO : EPOCH 22 - PROGRESS: at 49.06% examples, 568059 words/s, in_qsize 12, out_qsize 3\n",
      "2020-11-06 01:00:18,861 : INFO : EPOCH 22 - PROGRESS: at 56.84% examples, 577123 words/s, in_qsize 15, out_qsize 0\n",
      "2020-11-06 01:00:19,904 : INFO : EPOCH 22 - PROGRESS: at 63.65% examples, 573444 words/s, in_qsize 15, out_qsize 0\n",
      "2020-11-06 01:00:20,903 : INFO : EPOCH 22 - PROGRESS: at 71.88% examples, 583531 words/s, in_qsize 15, out_qsize 0\n",
      "2020-11-06 01:00:21,911 : INFO : EPOCH 22 - PROGRESS: at 80.03% examples, 590800 words/s, in_qsize 15, out_qsize 0\n",
      "2020-11-06 01:00:22,937 : INFO : EPOCH 22 - PROGRESS: at 87.83% examples, 593654 words/s, in_qsize 15, out_qsize 0\n",
      "2020-11-06 01:00:23,947 : INFO : EPOCH 22 - PROGRESS: at 95.34% examples, 594767 words/s, in_qsize 15, out_qsize 0\n",
      "2020-11-06 01:00:24,466 : INFO : worker thread finished; awaiting finish of 7 more threads\n",
      "2020-11-06 01:00:24,503 : INFO : worker thread finished; awaiting finish of 6 more threads\n",
      "2020-11-06 01:00:24,523 : INFO : worker thread finished; awaiting finish of 5 more threads\n",
      "2020-11-06 01:00:24,523 : INFO : worker thread finished; awaiting finish of 4 more threads\n",
      "2020-11-06 01:00:24,533 : INFO : worker thread finished; awaiting finish of 3 more threads\n",
      "2020-11-06 01:00:24,543 : INFO : worker thread finished; awaiting finish of 2 more threads\n",
      "2020-11-06 01:00:24,551 : INFO : worker thread finished; awaiting finish of 1 more threads\n",
      "2020-11-06 01:00:24,554 : INFO : worker thread finished; awaiting finish of 0 more threads\n",
      "2020-11-06 01:00:24,556 : INFO : EPOCH - 22 : training on 9227204 raw words (8222132 effective words) took 13.8s, 596379 effective words/s\n",
      "2020-11-06 01:00:25,592 : INFO : EPOCH 23 - PROGRESS: at 6.40% examples, 519048 words/s, in_qsize 16, out_qsize 0\n",
      "2020-11-06 01:00:26,596 : INFO : EPOCH 23 - PROGRESS: at 13.04% examples, 530375 words/s, in_qsize 16, out_qsize 0\n",
      "2020-11-06 01:00:27,637 : INFO : EPOCH 23 - PROGRESS: at 20.48% examples, 550143 words/s, in_qsize 15, out_qsize 0\n",
      "2020-11-06 01:00:28,654 : INFO : EPOCH 23 - PROGRESS: at 28.18% examples, 567215 words/s, in_qsize 16, out_qsize 1\n",
      "2020-11-06 01:00:29,665 : INFO : EPOCH 23 - PROGRESS: at 35.87% examples, 579632 words/s, in_qsize 15, out_qsize 0\n",
      "2020-11-06 01:00:30,667 : INFO : EPOCH 23 - PROGRESS: at 42.46% examples, 573028 words/s, in_qsize 14, out_qsize 1\n",
      "2020-11-06 01:00:31,670 : INFO : EPOCH 23 - PROGRESS: at 50.35% examples, 583668 words/s, in_qsize 15, out_qsize 0\n",
      "2020-11-06 01:00:32,682 : INFO : EPOCH 23 - PROGRESS: at 58.03% examples, 589280 words/s, in_qsize 15, out_qsize 0\n",
      "2020-11-06 01:00:33,683 : INFO : EPOCH 23 - PROGRESS: at 65.50% examples, 591600 words/s, in_qsize 15, out_qsize 0\n",
      "2020-11-06 01:00:34,710 : INFO : EPOCH 23 - PROGRESS: at 73.19% examples, 593981 words/s, in_qsize 14, out_qsize 1\n",
      "2020-11-06 01:00:35,751 : INFO : EPOCH 23 - PROGRESS: at 80.58% examples, 593235 words/s, in_qsize 15, out_qsize 0\n",
      "2020-11-06 01:00:36,755 : INFO : EPOCH 23 - PROGRESS: at 87.29% examples, 589606 words/s, in_qsize 15, out_qsize 0\n",
      "2020-11-06 01:00:37,759 : INFO : EPOCH 23 - PROGRESS: at 94.80% examples, 591210 words/s, in_qsize 15, out_qsize 0\n",
      "2020-11-06 01:00:38,326 : INFO : worker thread finished; awaiting finish of 7 more threads\n",
      "2020-11-06 01:00:38,367 : INFO : worker thread finished; awaiting finish of 6 more threads\n",
      "2020-11-06 01:00:38,367 : INFO : worker thread finished; awaiting finish of 5 more threads\n",
      "2020-11-06 01:00:38,383 : INFO : worker thread finished; awaiting finish of 4 more threads\n",
      "2020-11-06 01:00:38,391 : INFO : worker thread finished; awaiting finish of 3 more threads\n",
      "2020-11-06 01:00:38,391 : INFO : worker thread finished; awaiting finish of 2 more threads\n",
      "2020-11-06 01:00:38,402 : INFO : worker thread finished; awaiting finish of 1 more threads\n",
      "2020-11-06 01:00:38,427 : INFO : worker thread finished; awaiting finish of 0 more threads\n",
      "2020-11-06 01:00:38,429 : INFO : EPOCH - 23 : training on 9227204 raw words (8222273 effective words) took 13.8s, 593688 effective words/s\n",
      "2020-11-06 01:00:39,455 : INFO : EPOCH 24 - PROGRESS: at 6.73% examples, 549172 words/s, in_qsize 15, out_qsize 0\n",
      "2020-11-06 01:00:40,456 : INFO : EPOCH 24 - PROGRESS: at 13.57% examples, 555215 words/s, in_qsize 14, out_qsize 1\n",
      "2020-11-06 01:00:41,458 : INFO : EPOCH 24 - PROGRESS: at 21.35% examples, 583505 words/s, in_qsize 15, out_qsize 0\n",
      "2020-11-06 01:00:42,484 : INFO : EPOCH 24 - PROGRESS: at 29.48% examples, 600274 words/s, in_qsize 16, out_qsize 1\n",
      "2020-11-06 01:00:43,494 : INFO : EPOCH 24 - PROGRESS: at 36.94% examples, 602001 words/s, in_qsize 15, out_qsize 0\n",
      "2020-11-06 01:00:44,563 : INFO : EPOCH 24 - PROGRESS: at 44.73% examples, 600619 words/s, in_qsize 14, out_qsize 1\n",
      "2020-11-06 01:00:45,584 : INFO : EPOCH 24 - PROGRESS: at 52.29% examples, 602705 words/s, in_qsize 16, out_qsize 0\n",
      "2020-11-06 01:00:46,650 : INFO : EPOCH 24 - PROGRESS: at 59.66% examples, 598251 words/s, in_qsize 16, out_qsize 0\n",
      "2020-11-06 01:00:47,668 : INFO : EPOCH 24 - PROGRESS: at 67.02% examples, 598118 words/s, in_qsize 16, out_qsize 3\n",
      "2020-11-06 01:00:48,708 : INFO : EPOCH 24 - PROGRESS: at 74.92% examples, 601052 words/s, in_qsize 15, out_qsize 0\n",
      "2020-11-06 01:00:49,714 : INFO : EPOCH 24 - PROGRESS: at 82.21% examples, 600401 words/s, in_qsize 16, out_qsize 0\n",
      "2020-11-06 01:00:50,733 : INFO : EPOCH 24 - PROGRESS: at 89.34% examples, 598166 words/s, in_qsize 16, out_qsize 0\n",
      "2020-11-06 01:00:51,781 : INFO : EPOCH 24 - PROGRESS: at 96.53% examples, 595425 words/s, in_qsize 14, out_qsize 1\n",
      "2020-11-06 01:00:52,135 : INFO : worker thread finished; awaiting finish of 7 more threads\n",
      "2020-11-06 01:00:52,151 : INFO : worker thread finished; awaiting finish of 6 more threads\n",
      "2020-11-06 01:00:52,159 : INFO : worker thread finished; awaiting finish of 5 more threads\n",
      "2020-11-06 01:00:52,159 : INFO : worker thread finished; awaiting finish of 4 more threads\n",
      "2020-11-06 01:00:52,184 : INFO : worker thread finished; awaiting finish of 3 more threads\n"
     ]
    },
    {
     "name": "stderr",
     "output_type": "stream",
     "text": [
      "2020-11-06 01:00:52,200 : INFO : worker thread finished; awaiting finish of 2 more threads\n",
      "2020-11-06 01:00:52,200 : INFO : worker thread finished; awaiting finish of 1 more threads\n",
      "2020-11-06 01:00:52,216 : INFO : worker thread finished; awaiting finish of 0 more threads\n",
      "2020-11-06 01:00:52,217 : INFO : EPOCH - 24 : training on 9227204 raw words (8224083 effective words) took 13.8s, 597351 effective words/s\n",
      "2020-11-06 01:00:53,238 : INFO : EPOCH 25 - PROGRESS: at 7.49% examples, 608824 words/s, in_qsize 15, out_qsize 0\n",
      "2020-11-06 01:00:54,300 : INFO : EPOCH 25 - PROGRESS: at 15.08% examples, 596551 words/s, in_qsize 16, out_qsize 0\n",
      "2020-11-06 01:00:55,323 : INFO : EPOCH 25 - PROGRESS: at 21.79% examples, 580225 words/s, in_qsize 16, out_qsize 0\n",
      "2020-11-06 01:00:56,338 : INFO : EPOCH 25 - PROGRESS: at 29.16% examples, 584506 words/s, in_qsize 14, out_qsize 1\n",
      "2020-11-06 01:00:57,364 : INFO : EPOCH 25 - PROGRESS: at 36.83% examples, 590836 words/s, in_qsize 13, out_qsize 2\n",
      "2020-11-06 01:00:58,399 : INFO : EPOCH 25 - PROGRESS: at 44.83% examples, 598579 words/s, in_qsize 12, out_qsize 3\n",
      "2020-11-06 01:00:59,404 : INFO : EPOCH 25 - PROGRESS: at 53.05% examples, 609092 words/s, in_qsize 13, out_qsize 2\n",
      "2020-11-06 01:01:00,404 : INFO : EPOCH 25 - PROGRESS: at 60.52% examples, 609705 words/s, in_qsize 13, out_qsize 2\n",
      "2020-11-06 01:01:01,403 : INFO : EPOCH 25 - PROGRESS: at 68.53% examples, 615092 words/s, in_qsize 15, out_qsize 0\n",
      "2020-11-06 01:01:02,429 : INFO : EPOCH 25 - PROGRESS: at 76.00% examples, 613377 words/s, in_qsize 16, out_qsize 0\n",
      "2020-11-06 01:01:03,485 : INFO : EPOCH 25 - PROGRESS: at 83.94% examples, 613519 words/s, in_qsize 16, out_qsize 0\n",
      "2020-11-06 01:01:04,494 : INFO : EPOCH 25 - PROGRESS: at 91.85% examples, 616279 words/s, in_qsize 13, out_qsize 2\n",
      "2020-11-06 01:01:05,510 : INFO : EPOCH 25 - PROGRESS: at 99.22% examples, 614608 words/s, in_qsize 8, out_qsize 0\n",
      "2020-11-06 01:01:05,510 : INFO : worker thread finished; awaiting finish of 7 more threads\n",
      "2020-11-06 01:01:05,519 : INFO : worker thread finished; awaiting finish of 6 more threads\n",
      "2020-11-06 01:01:05,529 : INFO : worker thread finished; awaiting finish of 5 more threads\n",
      "2020-11-06 01:01:05,547 : INFO : worker thread finished; awaiting finish of 4 more threads\n",
      "2020-11-06 01:01:05,556 : INFO : worker thread finished; awaiting finish of 3 more threads\n",
      "2020-11-06 01:01:05,563 : INFO : worker thread finished; awaiting finish of 2 more threads\n",
      "2020-11-06 01:01:05,568 : INFO : worker thread finished; awaiting finish of 1 more threads\n",
      "2020-11-06 01:01:05,573 : INFO : worker thread finished; awaiting finish of 0 more threads\n",
      "2020-11-06 01:01:05,575 : INFO : EPOCH - 25 : training on 9227204 raw words (8222020 effective words) took 13.3s, 616507 effective words/s\n",
      "2020-11-06 01:01:06,611 : INFO : EPOCH 26 - PROGRESS: at 6.51% examples, 528548 words/s, in_qsize 16, out_qsize 0\n",
      "2020-11-06 01:01:07,635 : INFO : EPOCH 26 - PROGRESS: at 14.00% examples, 564660 words/s, in_qsize 15, out_qsize 0\n",
      "2020-11-06 01:01:08,631 : INFO : EPOCH 26 - PROGRESS: at 20.70% examples, 560509 words/s, in_qsize 15, out_qsize 0\n",
      "2020-11-06 01:01:09,633 : INFO : EPOCH 26 - PROGRESS: at 28.18% examples, 573543 words/s, in_qsize 16, out_qsize 0\n",
      "2020-11-06 01:01:10,699 : INFO : EPOCH 26 - PROGRESS: at 36.29% examples, 584896 words/s, in_qsize 15, out_qsize 1\n",
      "2020-11-06 01:01:11,736 : INFO : EPOCH 26 - PROGRESS: at 43.32% examples, 580367 words/s, in_qsize 16, out_qsize 0\n",
      "2020-11-06 01:01:12,754 : INFO : EPOCH 26 - PROGRESS: at 49.92% examples, 573977 words/s, in_qsize 15, out_qsize 0\n",
      "2020-11-06 01:01:13,766 : INFO : EPOCH 26 - PROGRESS: at 56.62% examples, 570691 words/s, in_qsize 14, out_qsize 1\n",
      "2020-11-06 01:01:14,777 : INFO : EPOCH 26 - PROGRESS: at 63.33% examples, 567918 words/s, in_qsize 15, out_qsize 0\n",
      "2020-11-06 01:01:15,795 : INFO : EPOCH 26 - PROGRESS: at 70.59% examples, 569402 words/s, in_qsize 15, out_qsize 0\n",
      "2020-11-06 01:01:16,818 : INFO : EPOCH 26 - PROGRESS: at 77.96% examples, 571546 words/s, in_qsize 15, out_qsize 0\n",
      "2020-11-06 01:01:17,827 : INFO : EPOCH 26 - PROGRESS: at 85.23% examples, 573430 words/s, in_qsize 15, out_qsize 0\n",
      "2020-11-06 01:01:18,861 : INFO : EPOCH 26 - PROGRESS: at 93.05% examples, 576766 words/s, in_qsize 16, out_qsize 2\n",
      "2020-11-06 01:01:19,670 : INFO : worker thread finished; awaiting finish of 7 more threads\n",
      "2020-11-06 01:01:19,694 : INFO : worker thread finished; awaiting finish of 6 more threads\n",
      "2020-11-06 01:01:19,694 : INFO : worker thread finished; awaiting finish of 5 more threads\n",
      "2020-11-06 01:01:19,708 : INFO : worker thread finished; awaiting finish of 4 more threads\n",
      "2020-11-06 01:01:19,725 : INFO : worker thread finished; awaiting finish of 3 more threads\n",
      "2020-11-06 01:01:19,725 : INFO : worker thread finished; awaiting finish of 2 more threads\n",
      "2020-11-06 01:01:19,732 : INFO : worker thread finished; awaiting finish of 1 more threads\n",
      "2020-11-06 01:01:19,740 : INFO : worker thread finished; awaiting finish of 0 more threads\n",
      "2020-11-06 01:01:19,748 : INFO : EPOCH - 26 : training on 9227204 raw words (8223553 effective words) took 14.1s, 581275 effective words/s\n",
      "2020-11-06 01:01:20,773 : INFO : EPOCH 27 - PROGRESS: at 6.29% examples, 515862 words/s, in_qsize 14, out_qsize 1\n",
      "2020-11-06 01:01:21,785 : INFO : EPOCH 27 - PROGRESS: at 13.90% examples, 561797 words/s, in_qsize 15, out_qsize 0\n",
      "2020-11-06 01:01:22,805 : INFO : EPOCH 27 - PROGRESS: at 21.79% examples, 589440 words/s, in_qsize 15, out_qsize 0\n",
      "2020-11-06 01:01:23,841 : INFO : EPOCH 27 - PROGRESS: at 30.02% examples, 604523 words/s, in_qsize 15, out_qsize 0\n",
      "2020-11-06 01:01:24,862 : INFO : EPOCH 27 - PROGRESS: at 36.72% examples, 592650 words/s, in_qsize 13, out_qsize 2\n",
      "2020-11-06 01:01:25,868 : INFO : EPOCH 27 - PROGRESS: at 44.51% examples, 600034 words/s, in_qsize 15, out_qsize 0\n",
      "2020-11-06 01:01:26,886 : INFO : EPOCH 27 - PROGRESS: at 50.78% examples, 586877 words/s, in_qsize 16, out_qsize 0\n",
      "2020-11-06 01:01:27,904 : INFO : EPOCH 27 - PROGRESS: at 58.69% examples, 593322 words/s, in_qsize 15, out_qsize 0\n",
      "2020-11-06 01:01:28,910 : INFO : EPOCH 27 - PROGRESS: at 66.37% examples, 596415 words/s, in_qsize 15, out_qsize 0\n",
      "2020-11-06 01:01:29,927 : INFO : EPOCH 27 - PROGRESS: at 73.95% examples, 598422 words/s, in_qsize 13, out_qsize 4\n",
      "2020-11-06 01:01:30,974 : INFO : EPOCH 27 - PROGRESS: at 81.77% examples, 600151 words/s, in_qsize 15, out_qsize 0\n",
      "2020-11-06 01:01:31,993 : INFO : EPOCH 27 - PROGRESS: at 89.45% examples, 601851 words/s, in_qsize 15, out_qsize 0\n",
      "2020-11-06 01:01:33,013 : INFO : EPOCH 27 - PROGRESS: at 96.74% examples, 600526 words/s, in_qsize 13, out_qsize 2\n",
      "2020-11-06 01:01:33,363 : INFO : worker thread finished; awaiting finish of 7 more threads\n",
      "2020-11-06 01:01:33,363 : INFO : worker thread finished; awaiting finish of 6 more threads\n",
      "2020-11-06 01:01:33,372 : INFO : worker thread finished; awaiting finish of 5 more threads\n",
      "2020-11-06 01:01:33,392 : INFO : worker thread finished; awaiting finish of 4 more threads\n",
      "2020-11-06 01:01:33,400 : INFO : worker thread finished; awaiting finish of 3 more threads\n",
      "2020-11-06 01:01:33,422 : INFO : worker thread finished; awaiting finish of 2 more threads\n",
      "2020-11-06 01:01:33,439 : INFO : worker thread finished; awaiting finish of 1 more threads\n",
      "2020-11-06 01:01:33,447 : INFO : worker thread finished; awaiting finish of 0 more threads\n",
      "2020-11-06 01:01:33,448 : INFO : EPOCH - 27 : training on 9227204 raw words (8222056 effective words) took 13.7s, 601019 effective words/s\n",
      "2020-11-06 01:01:34,485 : INFO : EPOCH 28 - PROGRESS: at 6.62% examples, 536695 words/s, in_qsize 15, out_qsize 0\n",
      "2020-11-06 01:01:35,512 : INFO : EPOCH 28 - PROGRESS: at 14.22% examples, 574225 words/s, in_qsize 14, out_qsize 1\n",
      "2020-11-06 01:01:36,515 : INFO : EPOCH 28 - PROGRESS: at 21.79% examples, 589576 words/s, in_qsize 15, out_qsize 0\n",
      "2020-11-06 01:01:37,518 : INFO : EPOCH 28 - PROGRESS: at 28.94% examples, 588700 words/s, in_qsize 16, out_qsize 0\n",
      "2020-11-06 01:01:38,557 : INFO : EPOCH 28 - PROGRESS: at 36.62% examples, 592566 words/s, in_qsize 15, out_qsize 0\n",
      "2020-11-06 01:01:39,593 : INFO : EPOCH 28 - PROGRESS: at 44.29% examples, 595308 words/s, in_qsize 15, out_qsize 0\n",
      "2020-11-06 01:01:40,637 : INFO : EPOCH 28 - PROGRESS: at 51.96% examples, 597464 words/s, in_qsize 14, out_qsize 1\n"
     ]
    },
    {
     "name": "stderr",
     "output_type": "stream",
     "text": [
      "2020-11-06 01:01:41,645 : INFO : EPOCH 28 - PROGRESS: at 59.44% examples, 598836 words/s, in_qsize 14, out_qsize 1\n",
      "2020-11-06 01:01:42,644 : INFO : EPOCH 28 - PROGRESS: at 66.58% examples, 596914 words/s, in_qsize 15, out_qsize 0\n",
      "2020-11-06 01:01:43,683 : INFO : EPOCH 28 - PROGRESS: at 74.70% examples, 602387 words/s, in_qsize 13, out_qsize 2\n",
      "2020-11-06 01:01:44,701 : INFO : EPOCH 28 - PROGRESS: at 81.23% examples, 594891 words/s, in_qsize 14, out_qsize 1\n",
      "2020-11-06 01:01:45,746 : INFO : EPOCH 28 - PROGRESS: at 89.23% examples, 598130 words/s, in_qsize 15, out_qsize 0\n",
      "2020-11-06 01:01:46,753 : INFO : EPOCH 28 - PROGRESS: at 96.75% examples, 598976 words/s, in_qsize 16, out_qsize 0\n",
      "2020-11-06 01:01:47,045 : INFO : worker thread finished; awaiting finish of 7 more threads\n",
      "2020-11-06 01:01:47,045 : INFO : worker thread finished; awaiting finish of 6 more threads\n",
      "2020-11-06 01:01:47,084 : INFO : worker thread finished; awaiting finish of 5 more threads\n",
      "2020-11-06 01:01:47,092 : INFO : worker thread finished; awaiting finish of 4 more threads\n",
      "2020-11-06 01:01:47,100 : INFO : worker thread finished; awaiting finish of 3 more threads\n",
      "2020-11-06 01:01:47,126 : INFO : worker thread finished; awaiting finish of 2 more threads\n",
      "2020-11-06 01:01:47,128 : INFO : worker thread finished; awaiting finish of 1 more threads\n",
      "2020-11-06 01:01:47,132 : INFO : worker thread finished; awaiting finish of 0 more threads\n",
      "2020-11-06 01:01:47,134 : INFO : EPOCH - 28 : training on 9227204 raw words (8223252 effective words) took 13.7s, 602240 effective words/s\n",
      "2020-11-06 01:01:48,165 : INFO : EPOCH 29 - PROGRESS: at 6.73% examples, 544914 words/s, in_qsize 15, out_qsize 0\n",
      "2020-11-06 01:01:49,165 : INFO : EPOCH 29 - PROGRESS: at 14.01% examples, 569819 words/s, in_qsize 14, out_qsize 1\n",
      "2020-11-06 01:01:50,209 : INFO : EPOCH 29 - PROGRESS: at 21.03% examples, 563156 words/s, in_qsize 15, out_qsize 0\n",
      "2020-11-06 01:01:51,231 : INFO : EPOCH 29 - PROGRESS: at 27.86% examples, 560545 words/s, in_qsize 16, out_qsize 0\n",
      "2020-11-06 01:01:52,233 : INFO : EPOCH 29 - PROGRESS: at 35.42% examples, 571558 words/s, in_qsize 15, out_qsize 0\n",
      "2020-11-06 01:01:53,254 : INFO : EPOCH 29 - PROGRESS: at 42.89% examples, 577403 words/s, in_qsize 16, out_qsize 0\n",
      "2020-11-06 01:01:54,278 : INFO : EPOCH 29 - PROGRESS: at 50.46% examples, 582292 words/s, in_qsize 15, out_qsize 0\n",
      "2020-11-06 01:01:55,290 : INFO : EPOCH 29 - PROGRESS: at 58.47% examples, 590963 words/s, in_qsize 14, out_qsize 1\n",
      "2020-11-06 01:01:56,301 : INFO : EPOCH 29 - PROGRESS: at 66.15% examples, 594932 words/s, in_qsize 14, out_qsize 1\n",
      "2020-11-06 01:01:57,295 : INFO : EPOCH 29 - PROGRESS: at 73.73% examples, 597632 words/s, in_qsize 15, out_qsize 0\n",
      "2020-11-06 01:01:58,373 : INFO : EPOCH 29 - PROGRESS: at 81.55% examples, 597532 words/s, in_qsize 15, out_qsize 0\n",
      "2020-11-06 01:01:59,380 : INFO : EPOCH 29 - PROGRESS: at 89.34% examples, 601031 words/s, in_qsize 13, out_qsize 2\n",
      "2020-11-06 01:02:00,375 : INFO : EPOCH 29 - PROGRESS: at 96.31% examples, 598479 words/s, in_qsize 15, out_qsize 0\n",
      "2020-11-06 01:02:00,783 : INFO : worker thread finished; awaiting finish of 7 more threads\n",
      "2020-11-06 01:02:00,783 : INFO : worker thread finished; awaiting finish of 6 more threads\n",
      "2020-11-06 01:02:00,799 : INFO : worker thread finished; awaiting finish of 5 more threads\n",
      "2020-11-06 01:02:00,814 : INFO : worker thread finished; awaiting finish of 4 more threads\n",
      "2020-11-06 01:02:00,822 : INFO : worker thread finished; awaiting finish of 3 more threads\n",
      "2020-11-06 01:02:00,835 : INFO : worker thread finished; awaiting finish of 2 more threads\n",
      "2020-11-06 01:02:00,844 : INFO : worker thread finished; awaiting finish of 1 more threads\n",
      "2020-11-06 01:02:00,863 : INFO : worker thread finished; awaiting finish of 0 more threads\n",
      "2020-11-06 01:02:00,870 : INFO : EPOCH - 29 : training on 9227204 raw words (8222332 effective words) took 13.7s, 599409 effective words/s\n",
      "2020-11-06 01:02:01,913 : INFO : EPOCH 30 - PROGRESS: at 6.62% examples, 535372 words/s, in_qsize 14, out_qsize 1\n",
      "2020-11-06 01:02:02,932 : INFO : EPOCH 30 - PROGRESS: at 14.00% examples, 563374 words/s, in_qsize 16, out_qsize 0\n",
      "2020-11-06 01:02:03,961 : INFO : EPOCH 30 - PROGRESS: at 21.79% examples, 584617 words/s, in_qsize 13, out_qsize 2\n",
      "2020-11-06 01:02:04,978 : INFO : EPOCH 30 - PROGRESS: at 29.37% examples, 591666 words/s, in_qsize 15, out_qsize 0\n",
      "2020-11-06 01:02:06,000 : INFO : EPOCH 30 - PROGRESS: at 37.05% examples, 597201 words/s, in_qsize 16, out_qsize 0\n",
      "2020-11-06 01:02:07,003 : INFO : EPOCH 30 - PROGRESS: at 45.16% examples, 608434 words/s, in_qsize 15, out_qsize 0\n",
      "2020-11-06 01:02:08,002 : INFO : EPOCH 30 - PROGRESS: at 52.07% examples, 602441 words/s, in_qsize 15, out_qsize 0\n",
      "2020-11-06 01:02:09,013 : INFO : EPOCH 30 - PROGRESS: at 57.93% examples, 587032 words/s, in_qsize 16, out_qsize 0\n",
      "2020-11-06 01:02:10,025 : INFO : EPOCH 30 - PROGRESS: at 64.19% examples, 578832 words/s, in_qsize 15, out_qsize 0\n",
      "2020-11-06 01:02:11,034 : INFO : EPOCH 30 - PROGRESS: at 71.13% examples, 576762 words/s, in_qsize 16, out_qsize 1\n",
      "2020-11-06 01:02:12,047 : INFO : EPOCH 30 - PROGRESS: at 78.07% examples, 576083 words/s, in_qsize 15, out_qsize 0\n",
      "2020-11-06 01:02:13,076 : INFO : EPOCH 30 - PROGRESS: at 86.53% examples, 583985 words/s, in_qsize 15, out_qsize 0\n",
      "2020-11-06 01:02:14,080 : INFO : EPOCH 30 - PROGRESS: at 94.57% examples, 589514 words/s, in_qsize 15, out_qsize 0\n",
      "2020-11-06 01:02:14,628 : INFO : worker thread finished; awaiting finish of 7 more threads\n",
      "2020-11-06 01:02:14,640 : INFO : worker thread finished; awaiting finish of 6 more threads\n",
      "2020-11-06 01:02:14,653 : INFO : worker thread finished; awaiting finish of 5 more threads\n",
      "2020-11-06 01:02:14,653 : INFO : worker thread finished; awaiting finish of 4 more threads\n",
      "2020-11-06 01:02:14,672 : INFO : worker thread finished; awaiting finish of 3 more threads\n",
      "2020-11-06 01:02:14,678 : INFO : worker thread finished; awaiting finish of 2 more threads\n",
      "2020-11-06 01:02:14,683 : INFO : worker thread finished; awaiting finish of 1 more threads\n",
      "2020-11-06 01:02:14,692 : INFO : worker thread finished; awaiting finish of 0 more threads\n",
      "2020-11-06 01:02:14,696 : INFO : EPOCH - 30 : training on 9227204 raw words (8222744 effective words) took 13.8s, 595916 effective words/s\n",
      "2020-11-06 01:02:15,721 : INFO : EPOCH 31 - PROGRESS: at 7.38% examples, 593975 words/s, in_qsize 15, out_qsize 0\n",
      "2020-11-06 01:02:16,736 : INFO : EPOCH 31 - PROGRESS: at 15.52% examples, 630111 words/s, in_qsize 15, out_qsize 0\n",
      "2020-11-06 01:02:17,802 : INFO : EPOCH 31 - PROGRESS: at 23.52% examples, 625104 words/s, in_qsize 15, out_qsize 0\n",
      "2020-11-06 01:02:18,806 : INFO : EPOCH 31 - PROGRESS: at 30.13% examples, 604893 words/s, in_qsize 15, out_qsize 0\n",
      "2020-11-06 01:02:19,810 : INFO : EPOCH 31 - PROGRESS: at 37.37% examples, 602825 words/s, in_qsize 14, out_qsize 1\n",
      "2020-11-06 01:02:20,843 : INFO : EPOCH 31 - PROGRESS: at 45.05% examples, 604337 words/s, in_qsize 15, out_qsize 0\n",
      "2020-11-06 01:02:21,848 : INFO : EPOCH 31 - PROGRESS: at 53.27% examples, 614442 words/s, in_qsize 15, out_qsize 0\n",
      "2020-11-06 01:02:22,858 : INFO : EPOCH 31 - PROGRESS: at 60.52% examples, 611341 words/s, in_qsize 15, out_qsize 0\n",
      "2020-11-06 01:02:23,855 : INFO : EPOCH 31 - PROGRESS: at 68.32% examples, 614256 words/s, in_qsize 15, out_qsize 0\n",
      "2020-11-06 01:02:24,873 : INFO : EPOCH 31 - PROGRESS: at 75.89% examples, 613898 words/s, in_qsize 15, out_qsize 0\n",
      "2020-11-06 01:02:25,886 : INFO : EPOCH 31 - PROGRESS: at 83.94% examples, 617568 words/s, in_qsize 16, out_qsize 0\n",
      "2020-11-06 01:02:26,906 : INFO : EPOCH 31 - PROGRESS: at 91.95% examples, 619692 words/s, in_qsize 15, out_qsize 0\n",
      "2020-11-06 01:02:27,792 : INFO : worker thread finished; awaiting finish of 7 more threads\n",
      "2020-11-06 01:02:27,809 : INFO : worker thread finished; awaiting finish of 6 more threads\n",
      "2020-11-06 01:02:27,809 : INFO : worker thread finished; awaiting finish of 5 more threads\n",
      "2020-11-06 01:02:27,825 : INFO : worker thread finished; awaiting finish of 4 more threads\n",
      "2020-11-06 01:02:27,825 : INFO : worker thread finished; awaiting finish of 3 more threads\n",
      "2020-11-06 01:02:27,841 : INFO : worker thread finished; awaiting finish of 2 more threads\n"
     ]
    },
    {
     "name": "stderr",
     "output_type": "stream",
     "text": [
      "2020-11-06 01:02:27,849 : INFO : worker thread finished; awaiting finish of 1 more threads\n",
      "2020-11-06 01:02:27,854 : INFO : worker thread finished; awaiting finish of 0 more threads\n",
      "2020-11-06 01:02:27,858 : INFO : EPOCH - 31 : training on 9227204 raw words (8222846 effective words) took 13.1s, 625664 effective words/s\n",
      "2020-11-06 01:02:28,881 : INFO : EPOCH 32 - PROGRESS: at 7.06% examples, 577741 words/s, in_qsize 15, out_qsize 0\n",
      "2020-11-06 01:02:29,889 : INFO : EPOCH 32 - PROGRESS: at 15.08% examples, 614505 words/s, in_qsize 15, out_qsize 0\n",
      "2020-11-06 01:02:30,922 : INFO : EPOCH 32 - PROGRESS: at 23.09% examples, 622297 words/s, in_qsize 15, out_qsize 0\n",
      "2020-11-06 01:02:31,939 : INFO : EPOCH 32 - PROGRESS: at 30.99% examples, 625859 words/s, in_qsize 15, out_qsize 0\n",
      "2020-11-06 01:02:32,975 : INFO : EPOCH 32 - PROGRESS: at 38.89% examples, 626597 words/s, in_qsize 16, out_qsize 0\n",
      "2020-11-06 01:02:33,985 : INFO : EPOCH 32 - PROGRESS: at 45.70% examples, 615036 words/s, in_qsize 13, out_qsize 3\n",
      "2020-11-06 01:02:35,059 : INFO : EPOCH 32 - PROGRESS: at 52.95% examples, 606699 words/s, in_qsize 16, out_qsize 0\n",
      "2020-11-06 01:02:36,071 : INFO : EPOCH 32 - PROGRESS: at 60.85% examples, 610843 words/s, in_qsize 13, out_qsize 2\n",
      "2020-11-06 01:02:37,139 : INFO : EPOCH 32 - PROGRESS: at 67.67% examples, 601166 words/s, in_qsize 16, out_qsize 0\n",
      "2020-11-06 01:02:38,156 : INFO : EPOCH 32 - PROGRESS: at 74.59% examples, 597131 words/s, in_qsize 16, out_qsize 0\n",
      "2020-11-06 01:02:39,161 : INFO : EPOCH 32 - PROGRESS: at 81.99% examples, 597674 words/s, in_qsize 15, out_qsize 0\n",
      "2020-11-06 01:02:40,162 : INFO : EPOCH 32 - PROGRESS: at 89.45% examples, 599001 words/s, in_qsize 15, out_qsize 0\n",
      "2020-11-06 01:02:41,184 : INFO : EPOCH 32 - PROGRESS: at 97.29% examples, 601176 words/s, in_qsize 15, out_qsize 0\n",
      "2020-11-06 01:02:41,391 : INFO : worker thread finished; awaiting finish of 7 more threads\n",
      "2020-11-06 01:02:41,433 : INFO : worker thread finished; awaiting finish of 6 more threads\n",
      "2020-11-06 01:02:41,444 : INFO : worker thread finished; awaiting finish of 5 more threads\n",
      "2020-11-06 01:02:41,447 : INFO : worker thread finished; awaiting finish of 4 more threads\n",
      "2020-11-06 01:02:41,453 : INFO : worker thread finished; awaiting finish of 3 more threads\n",
      "2020-11-06 01:02:41,457 : INFO : worker thread finished; awaiting finish of 2 more threads\n",
      "2020-11-06 01:02:41,473 : INFO : worker thread finished; awaiting finish of 1 more threads\n",
      "2020-11-06 01:02:41,490 : INFO : worker thread finished; awaiting finish of 0 more threads\n",
      "2020-11-06 01:02:41,496 : INFO : EPOCH - 32 : training on 9227204 raw words (8222412 effective words) took 13.6s, 603868 effective words/s\n",
      "2020-11-06 01:02:41,496 : INFO : training on a 295270528 raw words (263127357 effective words) took 455.0s, 578326 effective words/s\n"
     ]
    },
    {
     "name": "stdout",
     "output_type": "stream",
     "text": [
      "Wall time: 7min 34s\n"
     ]
    },
    {
     "data": {
      "text/plain": [
       "(263127357, 295270528)"
      ]
     },
     "execution_count": 26,
     "metadata": {},
     "output_type": "execute_result"
    }
   ],
   "source": [
    "%%time\n",
    "w2v_model.train(documents, total_examples=len(documents), epochs=W2V_EPOCH)"
   ]
  },
  {
   "cell_type": "code",
   "execution_count": 28,
   "metadata": {},
   "outputs": [
    {
     "name": "stderr",
     "output_type": "stream",
     "text": [
      "<ipython-input-28-9e1a4c826e7b>:1: DeprecationWarning: Call to deprecated `most_similar` (Method will be removed in 4.0.0, use self.wv.most_similar() instead).\n",
      "  w2v_model.most_similar(\"love\")\n",
      "2020-11-06 01:02:41,729 : INFO : precomputing L2-norms of word weight vectors\n"
     ]
    },
    {
     "data": {
      "text/plain": [
       "[('luv', 0.5758301019668579),\n",
       " ('loves', 0.5706297159194946),\n",
       " ('loved', 0.5444879531860352),\n",
       " ('amazing', 0.5121347904205322),\n",
       " ('adore', 0.5097287893295288),\n",
       " ('looove', 0.493882417678833),\n",
       " ('loveee', 0.4735329747200012),\n",
       " ('awesome', 0.47046369314193726),\n",
       " ('loooove', 0.4407847821712494),\n",
       " ('miss', 0.4292682409286499)]"
      ]
     },
     "execution_count": 28,
     "metadata": {},
     "output_type": "execute_result"
    }
   ],
   "source": [
    "w2v_model.most_similar(\"love\")"
   ]
  },
  {
   "cell_type": "markdown",
   "metadata": {},
   "source": [
    "### Tokenize Text"
   ]
  },
  {
   "cell_type": "code",
   "execution_count": 29,
   "metadata": {},
   "outputs": [
    {
     "name": "stdout",
     "output_type": "stream",
     "text": [
      "Total words 290419\n",
      "Wall time: 27.2 s\n"
     ]
    }
   ],
   "source": [
    "%%time\n",
    "tokenizer = Tokenizer()\n",
    "tokenizer.fit_on_texts(df_train.text)\n",
    "\n",
    "vocab_size = len(tokenizer.word_index) + 1\n",
    "print(\"Total words\", vocab_size)"
   ]
  },
  {
   "cell_type": "code",
   "execution_count": 30,
   "metadata": {},
   "outputs": [
    {
     "name": "stdout",
     "output_type": "stream",
     "text": [
      "Wall time: 35.9 s\n"
     ]
    }
   ],
   "source": [
    "%%time\n",
    "x_train = pad_sequences(tokenizer.texts_to_sequences(df_train.text), maxlen=SEQUENCE_LENGTH)\n",
    "x_test = pad_sequences(tokenizer.texts_to_sequences(df_test.text), maxlen=SEQUENCE_LENGTH)"
   ]
  },
  {
   "cell_type": "markdown",
   "metadata": {},
   "source": [
    "### Label Encoder"
   ]
  },
  {
   "cell_type": "code",
   "execution_count": 31,
   "metadata": {},
   "outputs": [
    {
     "data": {
      "text/plain": [
       "['POSITIVE', 'NEGATIVE', 'NEUTRAL']"
      ]
     },
     "execution_count": 31,
     "metadata": {},
     "output_type": "execute_result"
    }
   ],
   "source": [
    "labels = df_train.target.unique().tolist()\n",
    "labels.append(NEUTRAL)\n",
    "labels"
   ]
  },
  {
   "cell_type": "code",
   "execution_count": 32,
   "metadata": {},
   "outputs": [
    {
     "name": "stdout",
     "output_type": "stream",
     "text": [
      "y_train (1280000, 1)\n",
      "y_test (320000, 1)\n"
     ]
    }
   ],
   "source": [
    "encoder = LabelEncoder()\n",
    "encoder.fit(df_train.target.tolist())\n",
    "\n",
    "y_train = encoder.transform(df_train.target.tolist())\n",
    "y_test = encoder.transform(df_test.target.tolist())\n",
    "\n",
    "y_train = y_train.reshape(-1,1)\n",
    "y_test = y_test.reshape(-1,1)\n",
    "\n",
    "print(\"y_train\",y_train.shape)\n",
    "print(\"y_test\",y_test.shape)"
   ]
  },
  {
   "cell_type": "code",
   "execution_count": 33,
   "metadata": {},
   "outputs": [
    {
     "name": "stdout",
     "output_type": "stream",
     "text": [
      "x_train (1280000, 300)\n",
      "y_train (1280000, 1)\n",
      "\n",
      "x_test (320000, 300)\n",
      "y_test (320000, 1)\n"
     ]
    }
   ],
   "source": [
    "print(\"x_train\", x_train.shape)\n",
    "print(\"y_train\", y_train.shape)\n",
    "print()\n",
    "print(\"x_test\", x_test.shape)\n",
    "print(\"y_test\", y_test.shape)"
   ]
  },
  {
   "cell_type": "code",
   "execution_count": 34,
   "metadata": {},
   "outputs": [
    {
     "data": {
      "text/plain": [
       "array([[1],\n",
       "       [1],\n",
       "       [1],\n",
       "       [0],\n",
       "       [1],\n",
       "       [1],\n",
       "       [1],\n",
       "       [1],\n",
       "       [1],\n",
       "       [1]], dtype=int64)"
      ]
     },
     "execution_count": 34,
     "metadata": {},
     "output_type": "execute_result"
    }
   ],
   "source": [
    "y_train[:10]"
   ]
  },
  {
   "cell_type": "markdown",
   "metadata": {},
   "source": [
    "### Embedding layer"
   ]
  },
  {
   "cell_type": "code",
   "execution_count": 35,
   "metadata": {},
   "outputs": [
    {
     "name": "stdout",
     "output_type": "stream",
     "text": [
      "(290419, 300)\n"
     ]
    }
   ],
   "source": [
    "embedding_matrix = np.zeros((vocab_size, W2V_SIZE))\n",
    "for word, i in tokenizer.word_index.items():\n",
    "  if word in w2v_model.wv:\n",
    "    embedding_matrix[i] = w2v_model.wv[word]\n",
    "print(embedding_matrix.shape)"
   ]
  },
  {
   "cell_type": "code",
   "execution_count": 36,
   "metadata": {},
   "outputs": [],
   "source": [
    "embedding_layer = Embedding(vocab_size, W2V_SIZE, weights=[embedding_matrix], input_length=SEQUENCE_LENGTH, trainable=False)"
   ]
  },
  {
   "cell_type": "markdown",
   "metadata": {},
   "source": [
    "### 4. Modeling"
   ]
  },
  {
   "cell_type": "markdown",
   "metadata": {},
   "source": [
    "### Build Model"
   ]
  },
  {
   "cell_type": "code",
   "execution_count": 37,
   "metadata": {},
   "outputs": [
    {
     "name": "stdout",
     "output_type": "stream",
     "text": [
      "Model: \"sequential\"\n",
      "_________________________________________________________________\n",
      "Layer (type)                 Output Shape              Param #   \n",
      "=================================================================\n",
      "embedding (Embedding)        (None, 300, 300)          87125700  \n",
      "_________________________________________________________________\n",
      "dropout (Dropout)            (None, 300, 300)          0         \n",
      "_________________________________________________________________\n",
      "lstm (LSTM)                  (None, 100)               160400    \n",
      "_________________________________________________________________\n",
      "dense (Dense)                (None, 1)                 101       \n",
      "=================================================================\n",
      "Total params: 87,286,201\n",
      "Trainable params: 160,501\n",
      "Non-trainable params: 87,125,700\n",
      "_________________________________________________________________\n"
     ]
    }
   ],
   "source": [
    "model = Sequential()\n",
    "model.add(embedding_layer)\n",
    "model.add(Dropout(0.5))\n",
    "model.add(LSTM(100, dropout=0.2, recurrent_dropout=0.2))\n",
    "model.add(Dense(1, activation='sigmoid'))\n",
    "\n",
    "model.summary()"
   ]
  },
  {
   "cell_type": "markdown",
   "metadata": {},
   "source": [
    "### Compile Model"
   ]
  },
  {
   "cell_type": "code",
   "execution_count": 38,
   "metadata": {},
   "outputs": [],
   "source": [
    "model.compile(loss='binary_crossentropy',\n",
    "              optimizer=\"adam\",\n",
    "              metrics=['accuracy'])"
   ]
  },
  {
   "cell_type": "markdown",
   "metadata": {},
   "source": [
    "### Callbacks"
   ]
  },
  {
   "cell_type": "code",
   "execution_count": 39,
   "metadata": {},
   "outputs": [],
   "source": [
    "callbacks = [ ReduceLROnPlateau(monitor='val_loss', patience=5, cooldown=0),\n",
    "              EarlyStopping(monitor='val_acc', min_delta=1e-4, patience=5)]"
   ]
  },
  {
   "cell_type": "markdown",
   "metadata": {},
   "source": [
    "### Train"
   ]
  },
  {
   "cell_type": "code",
   "execution_count": null,
   "metadata": {},
   "outputs": [
    {
     "name": "stdout",
     "output_type": "stream",
     "text": [
      "Epoch 1/8\n",
      " 130/1125 [==>...........................] - ETA: 6:19:04 - loss: 0.5522 - accuracy: 0.7157"
     ]
    }
   ],
   "source": [
    "%%time\n",
    "history = model.fit(x_train, y_train,\n",
    "                    batch_size=BATCH_SIZE,\n",
    "                    epochs=EPOCHS,\n",
    "                    validation_split=0.1,\n",
    "                    verbose=1,\n",
    "                    callbacks=callbacks)"
   ]
  },
  {
   "cell_type": "markdown",
   "metadata": {},
   "source": [
    "### Evaluate"
   ]
  },
  {
   "cell_type": "code",
   "execution_count": null,
   "metadata": {},
   "outputs": [],
   "source": [
    "%%time\n",
    "score = model.evaluate(x_test, y_test, batch_size=BATCH_SIZE)\n",
    "print()\n",
    "print(\"ACCURACY:\",score[1])\n",
    "print(\"LOSS:\",score[0])"
   ]
  },
  {
   "cell_type": "code",
   "execution_count": null,
   "metadata": {},
   "outputs": [],
   "source": [
    "acc = history.history['acc']\n",
    "val_acc = history.history['val_acc']\n",
    "loss = history.history['loss']\n",
    "val_loss = history.history['val_loss']\n",
    " \n",
    "epochs = range(len(acc))\n",
    " \n",
    "plt.plot(epochs, acc, 'b', label='Training acc')\n",
    "plt.plot(epochs, val_acc, 'r', label='Validation acc')\n",
    "plt.title('Training and validation accuracy')\n",
    "plt.legend()\n",
    " \n",
    "plt.figure()\n",
    " \n",
    "plt.plot(epochs, loss, 'b', label='Training loss')\n",
    "plt.plot(epochs, val_loss, 'r', label='Validation loss')\n",
    "plt.title('Training and validation loss')\n",
    "plt.legend()\n",
    "\n",
    "plt.show()"
   ]
  },
  {
   "cell_type": "markdown",
   "metadata": {},
   "source": [
    "### Predict"
   ]
  },
  {
   "cell_type": "code",
   "execution_count": null,
   "metadata": {},
   "outputs": [],
   "source": [
    "def decode_sentiment(score, include_neutral=True):\n",
    "    if include_neutral:        \n",
    "        label = NEUTRAL\n",
    "        if score <= SENTIMENT_THRESHOLDS[0]:\n",
    "            label = NEGATIVE\n",
    "        elif score >= SENTIMENT_THRESHOLDS[1]:\n",
    "            label = POSITIVE\n",
    "\n",
    "        return label\n",
    "    else:\n",
    "        return NEGATIVE if score < 0.5 else POSITIVE"
   ]
  },
  {
   "cell_type": "code",
   "execution_count": null,
   "metadata": {},
   "outputs": [],
   "source": [
    "def predict(text, include_neutral=True):\n",
    "    start_at = time.time()\n",
    "    # Tokenize text\n",
    "    x_test = pad_sequences(tokenizer.texts_to_sequences([text]), maxlen=SEQUENCE_LENGTH)\n",
    "    # Predict\n",
    "    score = model.predict([x_test])[0]\n",
    "    # Decode sentiment\n",
    "    label = decode_sentiment(score, include_neutral=include_neutral)\n",
    "\n",
    "    return {\"label\": label, \"score\": float(score),\n",
    "       \"elapsed_time\": time.time()-start_at}  "
   ]
  },
  {
   "cell_type": "code",
   "execution_count": null,
   "metadata": {},
   "outputs": [],
   "source": [
    "predict(\"I love the music\")"
   ]
  },
  {
   "cell_type": "code",
   "execution_count": null,
   "metadata": {},
   "outputs": [],
   "source": [
    "predict(\"I hate the rain\")"
   ]
  },
  {
   "cell_type": "code",
   "execution_count": null,
   "metadata": {},
   "outputs": [],
   "source": [
    "predict(\"i don't know what i'm doing\")"
   ]
  },
  {
   "cell_type": "markdown",
   "metadata": {},
   "source": [
    "### Confusion Matrix"
   ]
  },
  {
   "cell_type": "code",
   "execution_count": null,
   "metadata": {},
   "outputs": [],
   "source": [
    "%%time\n",
    "y_pred_1d = []\n",
    "y_test_1d = list(df_test.target)\n",
    "scores = model.predict(x_test, verbose=1, batch_size=8000)\n",
    "y_pred_1d = [decode_sentiment(score, include_neutral=False) for score in scores]"
   ]
  },
  {
   "cell_type": "code",
   "execution_count": null,
   "metadata": {},
   "outputs": [],
   "source": [
    "def plot_confusion_matrix(cm, classes,\n",
    "                          title='Confusion matrix',\n",
    "                          cmap=plt.cm.Blues):\n",
    "    \"\"\"\n",
    "    This function prints and plots the confusion matrix.\n",
    "    Normalization can be applied by setting `normalize=True`.\n",
    "    \"\"\"\n",
    "\n",
    "    cm = cm.astype('float') / cm.sum(axis=1)[:, np.newaxis]\n",
    "\n",
    "    plt.imshow(cm, interpolation='nearest', cmap=cmap)\n",
    "    plt.title(title, fontsize=30)\n",
    "    plt.colorbar()\n",
    "    tick_marks = np.arange(len(classes))\n",
    "    plt.xticks(tick_marks, classes, rotation=90, fontsize=22)\n",
    "    plt.yticks(tick_marks, classes, fontsize=22)\n",
    "\n",
    "    fmt = '.2f'\n",
    "    thresh = cm.max() / 2.\n",
    "    for i, j in itertools.product(range(cm.shape[0]), range(cm.shape[1])):\n",
    "        plt.text(j, i, format(cm[i, j], fmt),\n",
    "                 horizontalalignment=\"center\",\n",
    "                 color=\"white\" if cm[i, j] > thresh else \"black\")\n",
    "\n",
    "    plt.ylabel('True label', fontsize=25)\n",
    "    plt.xlabel('Predicted label', fontsize=25)"
   ]
  },
  {
   "cell_type": "code",
   "execution_count": null,
   "metadata": {},
   "outputs": [],
   "source": [
    "%%time\n",
    "\n",
    "cnf_matrix = confusion_matrix(y_test_1d, y_pred_1d)\n",
    "plt.figure(figsize=(12,12))\n",
    "plot_confusion_matrix(cnf_matrix, classes=df_train.target.unique(), title=\"Confusion matrix\")\n",
    "plt.show()"
   ]
  },
  {
   "cell_type": "markdown",
   "metadata": {},
   "source": [
    "### Classification Report"
   ]
  },
  {
   "cell_type": "code",
   "execution_count": null,
   "metadata": {},
   "outputs": [],
   "source": [
    "print(classification_report(y_test_1d, y_pred_1d))"
   ]
  },
  {
   "cell_type": "markdown",
   "metadata": {},
   "source": [
    "### Accuracy Score"
   ]
  },
  {
   "cell_type": "code",
   "execution_count": null,
   "metadata": {},
   "outputs": [],
   "source": [
    "accuracy_score(y_test_1d, y_pred_1d)"
   ]
  },
  {
   "cell_type": "markdown",
   "metadata": {},
   "source": [
    "### Save Model"
   ]
  },
  {
   "cell_type": "code",
   "execution_count": null,
   "metadata": {},
   "outputs": [],
   "source": [
    "model.save(KERAS_MODEL)\n",
    "w2v_model.save(WORD2VEC_MODEL)\n",
    "pickle.dump(tokenizer, open(TOKENIZER_MODEL, \"wb\"), protocol=0)\n",
    "pickle.dump(encoder, open(ENCODER_MODEL, \"wb\"), protocol=0)"
   ]
  }
 ],
 "metadata": {
  "kernelspec": {
   "display_name": "Python 3",
   "language": "python",
   "name": "python3"
  },
  "language_info": {
   "codemirror_mode": {
    "name": "ipython",
    "version": 3
   },
   "file_extension": ".py",
   "mimetype": "text/x-python",
   "name": "python",
   "nbconvert_exporter": "python",
   "pygments_lexer": "ipython3",
   "version": "3.8.3"
  }
 },
 "nbformat": 4,
 "nbformat_minor": 4
}
